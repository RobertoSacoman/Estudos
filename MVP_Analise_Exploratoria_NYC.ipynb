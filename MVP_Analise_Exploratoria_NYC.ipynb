{
  "cells": [
    {
      "cell_type": "markdown",
      "id": "fb594f22",
      "metadata": {
        "id": "fb594f22"
      },
      "source": [
        "# 🚦 Análise Exploratória de Acidentes de Trânsito em Nova Iorque\n",
        "\n",
        "> *Este projeto representa uma nova etapa na exploração dos dados de acidentes de trânsito ocorridos na cidade de Nova Iorque. Após iniciativas anteriores focadas em Machine Learning e Engenharia de Dados ([MVP - Predição de Gravidade](https://github.com/RobertoSacoman/Estudos/blob/main/MVP_ML_Acidentes_Transito_NY.ipynb) e [MVP - Engenharia de Dados](https://github.com/RobertoSacoman/Estudos/blob/main/MVP_Engenharia_de_Dados_NYC.ipynb)), esta análise aprofundada visa obter insights descritivos a partir de técnicas de Análise Exploratória de Dados (EDA).*\n",
        "\n",
        "---\n",
        "\n",
        "<img src=\"https://raw.githubusercontent.com/RobertoSacoman/Estudos/main/acidente%20de%20transito%20-%20NY.jpg\" alt=\"Acidente de Trânsito em NY\" width=\"1200\"/>\n",
        "\n",
        "---\n",
        "\n",
        "## 📍 Introdução\n",
        "\n",
        "Com mais de 8 milhões de habitantes e um dos trânsitos mais intensos do mundo, a cidade de Nova Iorque enfrenta desafios diários relacionados à segurança viária. A convivência entre motoristas, ciclistas, pedestres e veículos de transporte coletivo, somada a fatores climáticos e comportamentais, faz com que o estudo de colisões de trânsito na cidade seja um campo fértil para análise de dados.\n",
        "\n",
        "Esta análise tem como objetivo aprofundar a compreensão sobre o cenário dos acidentes na cidade, explorando padrões, distribuições e correlações entre variáveis. O trabalho adota uma abordagem exploratória, estruturada e guiada por métodos estatísticos e técnicas de visualização.\n",
        "\n",
        "---\n",
        "\n",
        "## 📊 Justificativa: Por que Analisar os Acidentes em NY?\n",
        "\n",
        "A análise de dados de acidentes de trânsito é uma ferramenta essencial para:\n",
        "\n",
        "- **Identificação de áreas críticas** (hotspots) com maior frequência de ocorrências;\n",
        "- **Compreensão de fatores de risco**, como condições climáticas, tipo de via e horário do dia;\n",
        "- **Apoio à criação de políticas públicas e ações preventivas** para redução de acidentes;\n",
        "- **Avaliação de impactos sazonais e comportamentais** na dinâmica urbana.\n",
        "\n",
        "Em um cenário como o de Nova Iorque, marcado por alta densidade populacional e complexidade viária, a análise exploratória permite extrair informações valiosas para diferentes públicos: órgãos de trânsito, planejadores urbanos e tomadores de decisão.\n",
        "\n",
        "---\n",
        "\n",
        "## 🎯 Objetivo deste MVP\n",
        "\n",
        "O presente trabalho tem como principal objetivo realizar uma **Análise Exploratória de Dados (EDA)** sobre o dataset de colisões de trânsito da cidade de Nova Iorque.\n",
        "\n",
        "De forma detalhada, busca-se:\n",
        "\n",
        "1. Investigar a qualidade, completude e consistência dos dados;\n",
        "2. Realizar tratamento e limpeza inicial para correção de anomalias e valores ausentes;\n",
        "3. Aplicar técnicas de estatística descritiva para entendimento das principais variáveis;\n",
        "4. Produzir visualizações que ajudem a revelar padrões, distribuições e tendências;\n",
        "5. Documentar as descobertas, hipóteses e insights obtidos ao longo da análise.\n",
        "\n",
        "---\n",
        "\n",
        "## 🧬 Continuidade e Diferencial em Relação aos MVPs Anteriores\n",
        "\n",
        "Diferentemente dos MVPs anteriores, cujo foco foi o **processamento de dados (ETL)** e **modelagem preditiva com algoritmos de Machine Learning**, este projeto concentra-se exclusivamente na **exploração descritiva e visual dos dados**.\n",
        "\n",
        "Os principais diferenciais deste MVP são:\n",
        "\n",
        "- Ênfase em **estatísticas descritivas, gráficos e identificação de padrões**;\n",
        "- Avaliação minuciosa de **dados faltantes, outliers e inconsistências**;\n",
        "- Análise focada em **responder perguntas de negócio com base em evidências visuais e estatísticas**;\n",
        "- Produção de um material que sirva de **base para futuras modelagens ou construção de dashboards interativos**.\n",
        "\n",
        "---\n",
        "\n",
        "> “Transformar dados brutos em conhecimento exploratório é um passo fundamental antes de qualquer modelagem ou tomada de decisão. Este MVP busca justamente estabelecer essa base sólida para projetos futuros.”\n"
      ]
    },
    {
      "cell_type": "markdown",
      "source": [
        "## 🎯 Premissas e Hipóteses\n",
        "\n",
        "Com base no contexto urbano de Nova Iorque e nas características do dataset de colisões de trânsito, foram estabelecidas as seguintes premissas e hipóteses que nortearam a Análise Exploratória de Dados (EDA):\n",
        "\n",
        "### ✔️ Premissas:\n",
        "\n",
        "- O dataset representa de forma fiel os acidentes de trânsito ocorridos na cidade de Nova Iorque durante o período de coleta;\n",
        "- As colunas analisadas refletem corretamente os atributos dos acidentes (data, horário, localização, número de vítimas, etc.);\n",
        "- As inconsistências observadas nos dados (nulos, categorias mal formatadas) foram devidamente tratadas durante o processo de pré-processamento.\n",
        "\n",
        "### ✔️ Hipóteses de Análise:\n",
        "\n",
        "1. **Concentração Geográfica:**  \n",
        "Espera-se que determinados boroughs, como **BROOKLYN** e **QUEENS**, apresentem maior número absoluto de acidentes devido à maior extensão territorial e densidade populacional.\n",
        "\n",
        "2. **Horários de Pico:**  \n",
        "Acredita-se que a ocorrência de acidentes seja mais elevada durante os **horários de pico de tráfego**, especialmente no início da manhã e no final da tarde.\n",
        "\n",
        "3. **Severidade por Região:**  \n",
        "É provável que a **quantidade de vítimas por acidente** varie entre os boroughs, refletindo diferenças no fluxo viário e nas características das vias.\n",
        "\n",
        "4. **Distribuição Temporal:**  \n",
        "Espera-se identificar **picos sazonais ou mensais** no número de acidentes, possivelmente relacionados a condições climáticas, feriados ou eventos urbanos.\n",
        "\n",
        "5. **Influência das Condições Climáticas:**  \n",
        "Existe a hipótese de que **condições meteorológicas adversas** (chuva, neve, neblina) aumentem a frequência de acidentes.\n",
        "\n",
        "6. **Fatores Contribuintes mais Frequentes:**  \n",
        "A hipótese é que **fatores humanos**, como desatenção ou excesso de velocidade, estejam entre as principais causas dos acidentes.\n",
        "\n",
        "7. **Tipos de Veículos Mais Envolvidos:**  \n",
        "É esperado que **carros de passeio** sejam os veículos mais frequentemente envolvidos nas colisões, seguidos por vans e caminhões de entrega, dada a realidade urbana de Nova Iorque.\n",
        "\n",
        "Estas hipóteses foram consideradas ao longo da análise exploratória e serão validadas ou refutadas com base nos resultados apresentados nas próximas seções.\n"
      ],
      "metadata": {
        "id": "c8Zw7sOEOym0"
      },
      "id": "c8Zw7sOEOym0"
    },
    {
      "cell_type": "markdown",
      "id": "371d0f0e",
      "metadata": {
        "id": "371d0f0e"
      },
      "source": [
        "## 🧬 Linhagem dos Dados\n",
        "\n",
        "A seguir, é apresentada a trajetória dos dados utilizados neste projeto, desde sua origem até o estágio atual de preparação para a Análise Exploratória.\n",
        "\n",
        "---\n",
        "\n",
        "### 📍 Origem dos Dados\n",
        "\n",
        "- **Fonte**: Dataset público sobre colisões de trânsito na cidade de Nova Iorque, disponibilizado via NYC Open Data.\n",
        "- **Formato Original**: Arquivo CSV contendo registros de acidentes com atributos como data, localização, tipo de veículo envolvido, número de feridos, número de mortos e fatores contribuintes.\n",
        "- **Link para o Dataset**:  \n",
        "[https://raw.githubusercontent.com/RobertoSacoman/Estudos/main/NYC_Collisions_2023.csv](https://raw.githubusercontent.com/RobertoSacoman/Estudos/main/NYC_Collisions_2023.csv)\n",
        "\n",
        "---\n",
        "\n",
        "## 📂 Dataset Utilizado para o MVP\n",
        "\n",
        "Para fins didáticos e com o objetivo de demonstrar todas as etapas de análise, diagnóstico e limpeza de dados, foi criada uma versão propositalmente alterada do dataset original de colisões de trânsito na cidade de Nova Iorque.\n",
        "\n",
        "---\n",
        "\n",
        "### 📍 Detalhes da Fonte de Dados\n",
        "\n",
        "- **Formato:** CSV.\n",
        "- **Link para download:**  \n",
        "[https://github.com/RobertoSacoman/Estudos/blob/main/nyc_collisions_dirty.csv](https://github.com/RobertoSacoman/Estudos/blob/main/nyc_collisions_dirty.csv)\n",
        "\n",
        "---\n",
        "\n",
        "### 🧹 Características Intencionais da Versão \"Dirty\"\n",
        "\n",
        "O dataset foi artificialmente contaminado com as seguintes imperfeições, comuns em cenários reais de projetos de Ciência de Dados:\n",
        "\n",
        "- **Presença de valores nulos adicionais** nas colunas `date`, `time` e `zone`;\n",
        "- **Inclusão de linhas duplicadas** para simular problemas de unicidade;\n",
        "- **Valores inválidos e mal formatados** em campos de data e hora;\n",
        "- **Inconsistências textuais em campos categóricos**, como diferentes grafias ou erros de digitação na coluna `borough`;\n",
        "- **Outliers numéricos**, incluindo valores negativos ou desproporcionalmente altos na coluna `collision_id`.\n",
        "\n",
        "---\n",
        "\n",
        "### 🎯 Finalidade\n",
        "\n",
        "A intenção é que todas essas \"sujidades\" sirvam de base para aplicar, demonstrar e justificar cada uma das seguintes etapas:\n",
        "\n",
        "- Diagnóstico de qualidade dos dados;\n",
        "- Limpeza e padronização;\n",
        "- Análise estatística descritiva;\n",
        "- Visualizações exploratórias.\n",
        "\n",
        "Esse processo permitirá documentar um ciclo completo de **Data Cleaning e EDA** com evidências práticas de cada decisão tomada.\n"
      ]
    },
    {
      "cell_type": "markdown",
      "id": "32ec4731",
      "metadata": {
        "id": "32ec4731"
      },
      "source": [
        "### 🧹 Principais Etapas de Tratamento Realizadas\n",
        "\n",
        "1. **Leitura dos dados com Pandas**, garantindo o correto reconhecimento dos tipos de variáveis;\n",
        "2. **Padronização de nomes de colunas**, removendo espaços e caracteres especiais para facilitar o processamento;\n",
        "3. **Análise e tratamento de valores nulos**, com a remoção ou substituição de registros incompletos nas colunas essenciais;\n",
        "4. **Eliminação de duplicatas**, garantindo que cada registro de colisão seja único;\n",
        "5. **Conversão de tipos de dados**, ajustando colunas de data, hora e numéricas para os formatos adequados;\n",
        "6. **Pré-processamento adicional**, como criação de variáveis derivadas e categorização de atributos, quando aplicável."
      ]
    },
    {
      "cell_type": "code",
      "source": [
        "# 📥 Leitura e Tratamento Inicial dos Dados\n",
        "\n",
        "import pandas as pd\n",
        "import numpy as np\n",
        "\n",
        "# 1. Leitura dos dados\n",
        "url = \"https://raw.githubusercontent.com/RobertoSacoman/Estudos/main/nyc_collisions_dirty.csv\"\n",
        "df = pd.read_csv(url)\n",
        "\n",
        "# 2. Padronização dos nomes das colunas\n",
        "df.columns = (\n",
        "    df.columns.str.strip()\n",
        "    .str.lower()\n",
        "    .str.replace(\" \", \"_\")\n",
        "    .str.replace(r\"[^0-9a-zA-Z_]\", \"\", regex=True)\n",
        ")\n",
        "\n",
        "# 3. Diagnóstico inicial de valores nulos\n",
        "print(\"\\n🔎 Quantidade de valores nulos por coluna:\")\n",
        "print(df.isnull().sum())\n",
        "\n",
        "# 4. Eliminação de duplicatas\n",
        "print(f\"\\n📌 Total de registros antes da remoção de duplicatas: {len(df)}\")\n",
        "df = df.drop_duplicates()\n",
        "print(f\"📌 Total de registros após remoção de duplicatas: {len(df)}\")\n",
        "\n",
        "# 5. Conversão de tipos de dados\n",
        "# Convertendo 'date' para datetime\n",
        "df['date'] = pd.to_datetime(df['date'], errors='coerce')\n",
        "\n",
        "# Convertendo 'time' permanece como texto por enquanto (vamos tratar nas próximas etapas)\n",
        "\n",
        "# 6. Pré-processamento adicional (Exemplo: criar uma variável derivada de hora como numérica, nas próximas etapas)\n",
        "# Aqui só garantimos a estrutura inicial\n",
        "\n",
        "# Diagnóstico final da estrutura até este ponto\n",
        "print(\"\\n✅ Estrutura inicial do dataset após as primeiras etapas de tratamento:\")\n",
        "print(df.info())\n"
      ],
      "metadata": {
        "id": "-Cn4A0GWKctw"
      },
      "id": "-Cn4A0GWKctw",
      "execution_count": null,
      "outputs": []
    },
    {
      "cell_type": "code",
      "source": [
        "# 🧹 Diagnóstico e Padronização de Borough\n",
        "\n",
        "borough_mapping = {\n",
        "    'QUEENS': 'QUEENS', 'QEENS': 'QUEENS',\n",
        "    'BROOKLYN': 'BROOKLYN', 'BROKLYN': 'BROOKLYN', 'BROOKLINN': 'BROOKLYN', ' BROOKLYN': 'BROOKLYN',\n",
        "    'BRONX': 'BRONX', 'BRNX': 'BRONX', 'BRONCKS': 'BRONX',\n",
        "    'MANHATTAN': 'MANHATTAN', 'MANHATAN': 'MANHATTAN', 'MANHATTEN': 'MANHATTAN', ' MANHATTAN': 'MANHATTAN',\n",
        "    'STATEN ISLAND': 'STATEN ISLAND', 'STATE ISLAND': 'STATEN ISLAND', 'STTEN ISLAND': 'STATEN ISLAND',\n",
        "    'STATEN  ISLAND': 'STATEN ISLAND', 'STATEN ISLAND ': 'STATEN ISLAND',\n",
        "    'NAN': 'UNKNOWN'\n",
        "}\n",
        "\n",
        "df['borough'] = (\n",
        "    df['borough']\n",
        "    .astype(str)\n",
        "    .str.strip()\n",
        "    .str.upper()\n",
        "    .replace(borough_mapping)\n",
        ")\n",
        "\n",
        "df['borough'] = df['borough'].where(\n",
        "    df['borough'].isin(['QUEENS', 'BROOKLYN', 'BRONX', 'MANHATTAN', 'STATEN ISLAND', 'UNKNOWN']),\n",
        "    'UNKNOWN'\n",
        ")\n",
        "\n",
        "print(\"\\n✅ Valores únicos após padronização de 'borough':\")\n",
        "print(df['borough'].value_counts())\n"
      ],
      "metadata": {
        "id": "q95HaATJMfEg"
      },
      "id": "q95HaATJMfEg",
      "execution_count": null,
      "outputs": []
    },
    {
      "cell_type": "markdown",
      "source": [
        "## 🧹 Padronização Final da Coluna `borough`\n",
        "\n",
        "Durante o diagnóstico detalhado da coluna `borough`, foi identificado um número significativo de inconsistências e variações de nomenclatura. Entre os problemas encontrados estavam:\n",
        "\n",
        "- Erros de digitação (ex.: `QEENS`, `BROKLYN`, `BRONCKS`);\n",
        "- Diferenças de capitalização (ex.: `manhattan`, `MANHATTEN`);\n",
        "- Presença de espaços extras (ex.: `STATEN ISLAND `);\n",
        "- Registros nulos ou com ausência de informação.\n",
        "\n",
        "### ✔️ Estratégia Adotada:\n",
        "\n",
        "- Criado um **dicionário de mapeamento** contendo todas as variações encontradas, associando-as ao nome oficial do borough correspondente;\n",
        "- Valores nulos (`NaN`) e outros não reconhecidos foram categorizados como `\"UNKNOWN\"`;\n",
        "- Foi aplicada uma última validação para garantir que, ao final, a coluna `borough` contivesse apenas os seguintes valores finais e padronizados:\n",
        "\n",
        "| Valor Final |\n",
        "|---|\n",
        "| BROOKLYN |\n",
        "| QUEENS |\n",
        "| BRONX |\n",
        "| MANHATTAN |\n",
        "| STATEN ISLAND |\n",
        "| UNKNOWN |\n",
        "\n",
        "Essa padronização garante a consistência da variável nas próximas análises e visualizações.\n"
      ],
      "metadata": {
        "id": "QEjyV21VKR7N"
      },
      "id": "QEjyV21VKR7N"
    },
    {
      "cell_type": "markdown",
      "source": [
        "## ✅ Estado Atual dos Dados\n",
        "\n",
        "Após a realização das etapas iniciais de tratamento, o dataset encontra-se em condições adequadas para a execução da Análise Exploratória de Dados (EDA). As principais melhorias alcançadas até o momento incluem:\n",
        "\n",
        "- **Estrutura uniforme:** Todas as colunas foram devidamente nomeadas e padronizadas no formato `snake_case`, eliminando espaços e caracteres especiais;\n",
        "- **Remoção de duplicatas:** Registros duplicados foram identificados e eliminados, garantindo que cada linha represente uma ocorrência única de colisão;\n",
        "- **Tratamento de tipos de dados:** A coluna de datas foi convertida para o formato adequado (`datetime`), o que facilita análises temporais futuras;\n",
        "- **Padronização de categorias textuais:** Categorias como os valores da coluna `borough` passaram por um processo rigoroso de mapeamento e limpeza, consolidando todas as variações existentes em apenas seis categorias finais: `BROOKLYN`, `QUEENS`, `BRONX`, `MANHATTAN`, `STATEN ISLAND` e `UNKNOWN`;\n",
        "- **Eliminação de nulos críticos:** Todas as colunas com incidência de nulos passaram por tratamento adequado. Valores ausentes em atributos categóricos foram preenchidos com `\"UNKNOWN\"`, enquanto registros com nulos críticos (como datas inválidas) foram removidos.\n",
        "\n",
        "Esse cenário proporciona uma base sólida e confiável para a aplicação das técnicas de Análise Exploratória de Dados (EDA), permitindo análises mais seguras, consistentes e representativas da realidade dos acidentes de trânsito em Nova Iorque.\n"
      ],
      "metadata": {
        "id": "drbimuvyGHeN"
      },
      "id": "drbimuvyGHeN"
    },
    {
      "cell_type": "markdown",
      "source": [
        "## 🩺 Análise Detalhada de Valores Nulos e Inconsistências\n",
        "\n",
        "Nesta etapa, será realizada uma avaliação criteriosa das colunas que ainda apresentam valores nulos ou inconsistentes, visando garantir que os dados estejam prontos para análises estatísticas e gráficas.\n",
        "\n",
        "A estratégia para tratamento de cada coluna será definida com base no percentual de nulos, na importância da variável e no impacto que a exclusão ou substituição pode causar nas análises futuras.\n"
      ],
      "metadata": {
        "id": "ojdaCVtTHTRN"
      },
      "id": "ojdaCVtTHTRN"
    },
    {
      "cell_type": "code",
      "source": [
        "# 🩺 Diagnóstico Detalhado de Nulos e Inconsistências\n",
        "\n",
        "import matplotlib.pyplot as plt\n",
        "\n",
        "nulls = df.isnull().sum()\n",
        "nulls_percent = (nulls / len(df)) * 100\n",
        "\n",
        "nulls_df = pd.DataFrame({\n",
        "    'Total de Nulos': nulls,\n",
        "    'Percentual (%)': nulls_percent\n",
        "})\n",
        "nulls_df = nulls_df[nulls_df['Total de Nulos'] > 0].sort_values(by='Percentual (%)', ascending=False)\n",
        "\n",
        "print(\"\\n🔎 Colunas com nulos:\")\n",
        "print(nulls_df)\n",
        "\n",
        "plt.figure(figsize=(10, 6))\n",
        "nulls_df['Percentual (%)'].plot(kind='barh', color='salmon')\n",
        "plt.title('Percentual de Nulos por Coluna')\n",
        "plt.xlabel('% de Nulos')\n",
        "plt.tight_layout()\n",
        "plt.show()\n",
        "\n",
        "# Datas inválidas\n",
        "print(f\"\\nDatas inválidas (NaT): {df['date'].isna().sum()}\")\n",
        "\n",
        "# Times inválidos\n",
        "invalid_times = df[~df['time'].astype(str).str.match(r'^\\d{1,2}:\\d{2}$', na=False)]\n",
        "print(f\"\\nHorários inválidos: {len(invalid_times)}\")\n",
        "print(\"\\nExemplos de horários inválidos:\")\n",
        "print(invalid_times['time'].unique())\n"
      ],
      "metadata": {
        "id": "Y3YoLt2CHS8g"
      },
      "id": "Y3YoLt2CHS8g",
      "execution_count": null,
      "outputs": []
    },
    {
      "cell_type": "markdown",
      "source": [
        "## 🛠️ Plano de Tratamento de Valores Nulos e Dados Inválidos\n",
        "\n",
        "Com base na análise detalhada de nulos e inconsistências, foi elaborado o seguinte plano de ação para garantir a qualidade do dataset antes de iniciar a exploração estatística e gráfica:\n",
        "\n",
        "### ✔️ Estratégias por Coluna:\n",
        "\n",
        "- **`date` (7,4% de nulos/NaT):**  \n",
        "Por ser uma coluna temporal essencial, registros sem data serão excluídos, pois impactam diretamente em análises de tendência e sazonalidade.\n",
        "\n",
        "- **`time` (5% de problemas de formato e nulos):**  \n",
        "Registros com valores totalmente inválidos (exemplo: \"midnight\", NaN, ou horários fora do padrão HH:MM) serão excluídos. Para os demais, a coluna será convertida para o tipo `datetime.time`.\n",
        "\n",
        "- **`zone` (~5% de nulos):**  \n",
        "Será criada uma nova categoria chamada `\"UNKNOWN\"` para preencher os nulos, evitando perda de dados que podem ser úteis para outras análises.\n",
        "\n",
        "- **Demais colunas com ~3% de nulos (`driver_age`, `weather_condition`, `vehicle_type`, `vehicle_year`, `contributing_factor`, `insurance_claim`):**  \n",
        "Serão preenchidas com a categoria `\"UNKNOWN\"` ou, quando aplicável, com valores default, dependendo da natureza da coluna.\n",
        "\n",
        "### ✔️ Resumo das Ações:\n",
        "\n",
        "| Coluna | Estratégia |\n",
        "|---|---|\n",
        "| date | Remover registros com NaT |\n",
        "| time | Remover registros com horários inválidos |\n",
        "| zone | Preencher nulos com \"UNKNOWN\" |\n",
        "| Demais colunas com nulos | Preencher com \"UNKNOWN\" ou valor default |\n",
        "\n",
        "Após esses tratamentos, o dataset estará pronto para a Análise Exploratória (EDA).\n"
      ],
      "metadata": {
        "id": "GOrVS8IEHpF4"
      },
      "id": "GOrVS8IEHpF4"
    },
    {
      "cell_type": "code",
      "source": [
        "# 🧹 Tratamento de Nulos e Dados Inválidos\n",
        "\n",
        "# Remover registros com datas inválidas\n",
        "df = df.dropna(subset=['date'])\n",
        "\n",
        "# Remover horários inválidos\n",
        "df = df[df['time'].astype(str).str.match(r'^\\d{1,2}:\\d{2}$', na=False)]\n",
        "\n",
        "# Preencher nulos de 'zone' com 'UNKNOWN'\n",
        "df['zone'] = df['zone'].fillna('UNKNOWN')\n",
        "\n",
        "# Preencher demais colunas categóricas com 'UNKNOWN'\n",
        "cols_to_fill = ['driver_age', 'weather_condition', 'vehicle_type', 'vehicle_year', 'contributing_factor', 'insurance_claim']\n",
        "df[cols_to_fill] = df[cols_to_fill].fillna('UNKNOWN')\n",
        "\n",
        "print(\"\\n✅ Verificação de nulos após o tratamento:\")\n",
        "print(df.isnull().sum())\n"
      ],
      "metadata": {
        "id": "Od9MHzKwHoW9"
      },
      "id": "Od9MHzKwHoW9",
      "execution_count": null,
      "outputs": []
    },
    {
      "cell_type": "markdown",
      "source": [
        "## ✅ Considerações Finais sobre o Tratamento de Dados\n",
        "\n",
        "Após a aplicação das estratégias de limpeza e padronização, o dataset apresenta um cenário muito mais consistente e confiável para análises.\n",
        "\n",
        "As principais melhorias alcançadas foram:\n",
        "\n",
        "- **Redução significativa de registros inconsistentes:**  \n",
        "Foram eliminados mais de 20 mil registros com problemas críticos de qualidade (nulos em campos essenciais, datas inválidas, horários incorretos e duplicatas).\n",
        "\n",
        "- **Garantia de integridade temporal:**  \n",
        "A coluna `date` agora está livre de registros inválidos e com formato adequado para análises temporais.\n",
        "\n",
        "- **Uniformização de categorias:**  \n",
        "Colunas como `borough`, `zone` e demais atributos categóricos passaram a adotar um padrão consistente, evitando problemas de segmentação nas análises.\n",
        "\n",
        "- **Ausência de nulos remanescentes:**  \n",
        "Após o tratamento, o dataset apresenta **zero valores nulos** em todas as colunas, o que elimina a necessidade de tratamentos adicionais durante as próximas etapas de Análise Exploratória de Dados (EDA).\n",
        "\n",
        "Com esse cenário, o dataset está pronto para seguir para a próxima fase do projeto: **análises estatísticas, identificação de padrões e visualizações gráficas** que ajudarão a compreender melhor os fatores que influenciam os acidentes de trânsito na cidade de Nova Iorque.\n"
      ],
      "metadata": {
        "id": "JJueH3irIBkV"
      },
      "id": "JJueH3irIBkV"
    },
    {
      "cell_type": "markdown",
      "source": [
        "## 🔎 Início da Análise Exploratória de Dados (EDA)\n",
        "\n",
        "Com os dados devidamente tratados, limpos e padronizados, inicia-se agora a etapa de **Análise Exploratória de Dados (EDA)**.\n",
        "\n",
        "O principal objetivo desta fase é:\n",
        "\n",
        "- Investigar o comportamento das variáveis;\n",
        "- Analisar distribuições, frequências e tendências;\n",
        "- Identificar possíveis correlações e padrões escondidos nos dados;\n",
        "- Explorar o relacionamento entre diferentes variáveis categóricas e numéricas;\n",
        "- Gerar visualizações que apoiem a interpretação dos resultados.\n",
        "\n",
        "Nesta etapa, serão aplicadas técnicas de **estatística descritiva** e **visualizações gráficas** para melhor compreensão do cenário dos acidentes de trânsito na cidade de Nova Iorque.\n",
        "\n",
        "As análises a seguir buscam validar ou refutar as hipóteses levantadas na etapa anterior e ajudar a responder perguntas de negócio como:\n",
        "\n",
        "- Quais **boroughs** concentram mais acidentes?\n",
        "- Existe uma maior incidência de acidentes em determinados **horários do dia**?\n",
        "- Há **diferenças na gravidade dos acidentes entre as regiões** da cidade?\n",
        "- Existe alguma **sazonalidade ou tendência temporal** no número de acidentes?\n",
        "- As **condições climáticas** impactam a frequência de colisões?\n",
        "- Quais são os **principais fatores contribuintes** para os acidentes?\n",
        "- Quais são os **tipos de veículos mais frequentemente envolvidos** nas ocorrências?\n",
        "\n",
        "Cada uma dessas perguntas será abordada por meio de análises específicas nas próximas seções.\n"
      ],
      "metadata": {
        "id": "tD5cdsSwISi2"
      },
      "id": "tD5cdsSwISi2"
    },
    {
      "cell_type": "markdown",
      "source": [
        "## 📌 Estatísticas Descritivas das Variáveis Numéricas\n",
        "\n",
        "Nesta primeira análise estatística, foi gerado um resumo das principais variáveis numéricas do dataset.\n",
        "\n",
        "Foram avaliados os seguintes indicadores:\n",
        "\n",
        "- **Contagem total de registros (count)**\n",
        "- **Média (mean)**\n",
        "- **Desvio padrão (std)**\n",
        "- **Mínimo (min) e Máximo (max)**\n",
        "- **Quartis (25%, 50%, 75%)**\n",
        "\n",
        "### ✔️ Principais Variáveis Analisadas:\n",
        "\n",
        "- **`persons_injured`**: Número de pessoas feridas em cada acidente.\n",
        "- **`persons_killed`**: Número de vítimas fatais por ocorrência.\n",
        "- **`driver_age`**: Idade dos motoristas envolvidos nas colisões.\n",
        "- **`vehicle_year`**: Ano de fabricação dos veículos envolvidos.\n",
        "- **`time_converted`**: Hora do dia em que ocorreu o acidente, convertida para formato numérico (0 a 23).\n",
        "\n",
        "### ✔️ Conexão com as Hipóteses:\n",
        "\n",
        "- **Hipótese 3 (Severidade por Região):**  \n",
        "A distribuição de **pessoas feridas e mortas por ocorrência** permitirá comparar a gravidade média dos acidentes entre os diferentes boroughs.\n",
        "\n",
        "- **Hipótese 7 (Tipos de Veículos Mais Envolvidos):**  \n",
        "A variável **`vehicle_year`** pode fornecer indícios sobre a idade média da frota envolvida nos acidentes, além de futuras análises sobre tipo de veículo.\n",
        "\n",
        "### ✔️ Observações Iniciais:\n",
        "\n",
        "Com base nos resultados obtidos:\n",
        "\n",
        "- Há uma grande variação no número de feridos por acidente, com valores que vão de 0 até 6 pessoas feridas em um único evento.\n",
        "- A maioria dos acidentes não resultou em vítimas fatais, o que é coerente com a realidade urbana de grandes centros.\n",
        "- A idade média dos motoristas envolvidos está em torno de **48 anos**, com casos desde jovens de **18 anos** até motoristas com **79 anos**.\n",
        "\n",
        "Este diagnóstico inicial serve como base para as análises visuais e segmentações que serão realizadas nas próximas etapas.\n"
      ],
      "metadata": {
        "id": "37Q4UK9ENisv"
      },
      "id": "37Q4UK9ENisv"
    },
    {
      "cell_type": "code",
      "source": [
        "import seaborn as sns\n",
        "\n",
        "# 1. Estatísticas descritivas para variáveis numéricas\n",
        "# (Hipótese 3 e 7 - Severidade por região e Tipos de veículos envolvidos)\n",
        "print(\"\\n📌 Estatísticas Descritivas - Variáveis Numéricas:\")\n",
        "print(df.describe())"
      ],
      "metadata": {
        "id": "cN101GqpNke3"
      },
      "id": "cN101GqpNke3",
      "execution_count": null,
      "outputs": []
    },
    {
      "cell_type": "markdown",
      "source": [
        "## 🏙️ Distribuição de Acidentes por Borough\n",
        "\n",
        "Nesta etapa, foi criado um **gráfico de barras horizontal** mostrando o **número de acidentes registrados em cada Borough da cidade de Nova Iorque**.\n",
        "\n",
        "### ✔️ Objetivo da Análise:\n",
        "\n",
        "Esta análise busca validar a **Hipótese 1 – Concentração Geográfica**, que sugere que alguns boroughs, como **BROOKLYN** e **QUEENS**, apresentam maior número absoluto de acidentes devido à sua extensão territorial e densidade populacional.\n",
        "\n",
        "### ✔️ Principais Observações:\n",
        "\n",
        "- Todos os cinco boroughs oficiais estão representados na análise: **BROOKLYN**, **QUEENS**, **BRONX**, **MANHATTAN** e **STATEN ISLAND**.\n",
        "- Foi mantida também a categoria `\"UNKNOWN\"`, que representa registros cuja localização geográfica não pôde ser identificada no dataset.\n",
        "- A análise visual facilita a identificação das regiões com maior concentração de acidentes, o que pode subsidiar **decisões estratégicas de segurança viária**, como reforço de fiscalização e campanhas de conscientização em áreas críticas.\n"
      ],
      "metadata": {
        "id": "Z7w9JEsmNl8r"
      },
      "id": "Z7w9JEsmNl8r"
    },
    {
      "cell_type": "code",
      "source": [
        "# 2. Distribuição de acidentes por Borough\n",
        "# (Hipótese 1 - Concentração geográfica)\n",
        "plt.figure(figsize=(10,6))\n",
        "sns.countplot(y='borough', data=df, order=df['borough'].value_counts().index, palette='Blues_d')\n",
        "plt.title('Número de Acidentes por Borough')\n",
        "plt.xlabel('Quantidade de Acidentes')\n",
        "plt.ylabel('Borough')\n",
        "plt.tight_layout()\n",
        "plt.show()"
      ],
      "metadata": {
        "id": "nVerSImqNrhc"
      },
      "id": "nVerSImqNrhc",
      "execution_count": null,
      "outputs": []
    },
    {
      "cell_type": "markdown",
      "source": [
        "## 🕒 Distribuição de Acidentes por Horário do Dia\n",
        "\n",
        "Nesta análise, foi construído um **histograma de frequência**, apresentando a **quantidade de acidentes por hora do dia**, com base nos registros da coluna `time`.\n",
        "\n",
        "### ✔️ Objetivo da Análise:\n",
        "\n",
        "Essa visualização busca validar a **Hipótese 2 – Horários de Pico**, que sugeria uma concentração maior de acidentes durante os períodos de maior fluxo de veículos, como início da manhã e final da tarde."
      ],
      "metadata": {
        "id": "IWta-HINNszM"
      },
      "id": "IWta-HINNszM"
    },
    {
      "cell_type": "code",
      "source": [
        "# 3. Distribuição de acidentes por horário do dia\n",
        "# (Hipótese 2 - Horários de pico)\n",
        "df['time_converted'] = pd.to_datetime(df['time'], format='%H:%M', errors='coerce').dt.hour\n",
        "plt.figure(figsize=(10,6))\n",
        "sns.histplot(df['time_converted'].dropna(), bins=24, kde=False, color='salmon')\n",
        "plt.title('Distribuição de Acidentes por Hora do Dia')\n",
        "plt.xlabel('Hora')\n",
        "plt.ylabel('Número de Acidentes')\n",
        "plt.tight_layout()\n",
        "plt.show()"
      ],
      "metadata": {
        "id": "jiRn7XMfNuPB"
      },
      "id": "jiRn7XMfNuPB",
      "execution_count": null,
      "outputs": []
    },
    {
      "cell_type": "markdown",
      "source": [
        "## 🚑 Distribuição de Pessoas Feridas por Borough\n",
        "\n",
        "Nesta análise, foi utilizado um **boxplot** para explorar a **distribuição do número de pessoas feridas por acidente em cada Borough**.\n",
        "\n",
        "### ✔️ Objetivo da Análise:\n",
        "\n",
        "Esta visualização busca validar a **Hipótese 3 – Severidade por Região**, avaliando se existe **diferença na gravidade média dos acidentes entre os diferentes boroughs** da cidade de Nova Iorque."
      ],
      "metadata": {
        "id": "fh7xPo3uNxl-"
      },
      "id": "fh7xPo3uNxl-"
    },
    {
      "cell_type": "code",
      "source": [
        "# 4. Boxplot - Pessoas feridas por Borough\n",
        "# (Hipótese 3 - Severidade por região)\n",
        "plt.figure(figsize=(10,6))\n",
        "sns.boxplot(x='borough', y='persons_injured', data=df, palette='Pastel1')\n",
        "plt.title('Distribuição de Pessoas Feridas por Borough')\n",
        "plt.xlabel('Borough')\n",
        "plt.ylabel('Pessoas Feridas')\n",
        "plt.tight_layout()\n",
        "plt.show()"
      ],
      "metadata": {
        "id": "_2M6w7JdNyW3"
      },
      "id": "_2M6w7JdNyW3",
      "execution_count": null,
      "outputs": []
    },
    {
      "cell_type": "markdown",
      "source": [
        "## 📅 Distribuição Temporal dos Acidentes\n",
        "\n",
        "Nesta análise, foi realizada uma avaliação da **distribuição dos acidentes ao longo do tempo**, utilizando um **histograma de datas**.\n",
        "\n",
        "### ✔️ Objetivo da Análise:\n",
        "\n",
        "Esta visualização busca validar a **Hipótese 4 – Distribuição Temporal / Sazonalidade**, com o intuito de identificar possíveis **padrões sazonais**, **tendências de crescimento ou queda** no número de acidentes e a **ocorrência de períodos críticos com maior concentração de incidentes**.\n",
        "\n",
        "A análise ao longo do tempo pode revelar variações mensais, sazonais ou decorrentes de eventos externos que impactam o trânsito da cidade.\n"
      ],
      "metadata": {
        "id": "avbqQ1PzN02J"
      },
      "id": "avbqQ1PzN02J"
    },
    {
      "cell_type": "code",
      "source": [
        "# 5. Distribuição temporal dos acidentes\n",
        "# (Hipótese 4 - Distribuição temporal / sazonalidade)\n",
        "plt.figure(figsize=(12,6))\n",
        "sns.histplot(df['date'], bins=50, kde=False, color='green')\n",
        "plt.title('Distribuição de Acidentes ao Longo do Tempo')\n",
        "plt.xlabel('Data')\n",
        "plt.ylabel('Número de Acidentes')\n",
        "plt.tight_layout()\n",
        "plt.show()"
      ],
      "metadata": {
        "id": "2QGN5gyAIaMl"
      },
      "id": "2QGN5gyAIaMl",
      "execution_count": null,
      "outputs": []
    },
    {
      "cell_type": "markdown",
      "source": [
        "## 🌦️ Análise de Condição Climática x Número de Acidentes\n",
        "\n",
        "Nesta etapa, foi realizada uma análise para verificar a **relação entre as condições climáticas no momento da ocorrência e o número de acidentes registrados**.\n",
        "\n",
        "### ✔️ Objetivo da Análise:\n",
        "\n",
        "Essa visualização tem como foco validar a **Hipótese 5 – Influência das Condições Climáticas**, avaliando se há variação significativa no número de colisões de acordo com diferentes tipos de clima, como:\n",
        "\n",
        "- Dias de céu limpo (**Clear**);\n",
        "- Dias nublados (**Cloudy**);\n",
        "- Presença de chuva (**Rain**), neve (**Snow**), neblina (**Fog**), tempestades (**Storm**), entre outros.\n",
        "\n",
        "A análise permite avaliar se **condições meteorológicas adversas impactam a segurança no trânsito urbano de Nova Iorque**.\n"
      ],
      "metadata": {
        "id": "n8daj_IuSMc2"
      },
      "id": "n8daj_IuSMc2"
    },
    {
      "cell_type": "code",
      "source": [
        "# 6. Análise de Condição Climática x Número de Acidentes\n",
        "# (Hipótese 5 - Influência das condições climáticas)\n",
        "plt.figure(figsize=(10,6))\n",
        "sns.countplot(y='weather_condition', data=df, order=df['weather_condition'].value_counts().index, palette='coolwarm')\n",
        "plt.title('Número de Acidentes por Condição Climática')\n",
        "plt.xlabel('Quantidade de Acidentes')\n",
        "plt.ylabel('Condição Climática')\n",
        "plt.tight_layout()\n",
        "plt.show()"
      ],
      "metadata": {
        "id": "HXDf6J_DSElo"
      },
      "id": "HXDf6J_DSElo",
      "execution_count": null,
      "outputs": []
    },
    {
      "cell_type": "markdown",
      "source": [
        "## 🚦 Análise de Fatores Contribuintes para os Acidentes\n",
        "\n",
        "Nesta etapa, foi realizada uma análise para identificar os **principais fatores contribuintes apontados nos registros de acidentes**, de acordo com a variável `contributing_factor`.\n",
        "\n",
        "### ✔️ Objetivo da Análise:\n",
        "\n",
        "Esta visualização busca validar a **Hipótese 6 – Fatores Humanos como Principais Causas**, verificando se as principais causas dos acidentes estão relacionadas a **comportamentos humanos**, como:\n",
        "\n",
        "- Excesso de velocidade (**Speeding**),\n",
        "- Direção sob efeito de álcool (**Drunk Driving**),\n",
        "- Distração ao volante (**Distracted Driving**),\n",
        "- Passar sinal vermelho (**Running Red Light**),\n",
        "- Entre outros fatores operacionais e ambientais.\n",
        "\n",
        "A análise foi realizada utilizando um **gráfico de barras horizontal**, exibindo os **10 fatores mais recorrentes** no conjunto de dados.\n"
      ],
      "metadata": {
        "id": "gh3mP_jdSYsM"
      },
      "id": "gh3mP_jdSYsM"
    },
    {
      "cell_type": "code",
      "source": [
        "# 7. Análise de Fatores Contribuintes\n",
        "# (Hipótese 6 - Fatores humanos como principais causas)\n",
        "plt.figure(figsize=(10,6))\n",
        "sns.countplot(y='contributing_factor', data=df, order=df['contributing_factor'].value_counts().head(10).index, palette='mako')\n",
        "plt.title('Top 10 Fatores Contribuintes para os Acidentes')\n",
        "plt.xlabel('Quantidade de Acidentes')\n",
        "plt.ylabel('Fator Contribuinte')\n",
        "plt.tight_layout()\n",
        "plt.show()"
      ],
      "metadata": {
        "id": "Gy5Lxz8_SQnf"
      },
      "id": "Gy5Lxz8_SQnf",
      "execution_count": null,
      "outputs": []
    },
    {
      "cell_type": "markdown",
      "source": [
        "## 🚗 Análise de Tipo de Veículo Envolvido\n",
        "\n",
        "Nesta análise, foi avaliado o **tipo de veículo mais frequentemente envolvido nos acidentes de trânsito registrados no dataset**, utilizando a variável `vehicle_type`.\n",
        "\n",
        "### ✔️ Objetivo da Análise:\n",
        "\n",
        "Esta visualização busca validar a **Hipótese 7 – Tipos de Veículos Mais Envolvidos**, com o intuito de identificar quais categorias de veículos aparecem com maior frequência nas ocorrências.\n",
        "\n",
        "Foram analisados os **10 tipos de veículos com maior número de registros de acidentes**, incluindo categorias como:\n",
        "\n",
        "- Carros de passeio (**Car**),\n",
        "- Caminhões (**Truck**),\n",
        "- Motocicletas (**Motorcycle**),\n",
        "- SUVs,\n",
        "- Ônibus (**Bus**),\n",
        "- Vans,\n",
        "- Bicicletas (**Bicycle**), entre outros.\n",
        "\n",
        "A análise foi apresentada por meio de um **gráfico de barras horizontal**, permitindo uma visão clara da predominância de cada tipo de veículo nas colisões urbanas.\n"
      ],
      "metadata": {
        "id": "pKwe8dJoSuYL"
      },
      "id": "pKwe8dJoSuYL"
    },
    {
      "cell_type": "code",
      "source": [
        "# 8. Análise de Tipo de Veículo Envolvido\n",
        "# (Hipótese 7 - Tipos de veículos mais envolvidos)\n",
        "plt.figure(figsize=(10,6))\n",
        "sns.countplot(y='vehicle_type', data=df, order=df['vehicle_type'].value_counts().head(10).index, palette='Set2')\n",
        "plt.title('Top 10 Tipos de Veículos Envolvidos em Acidentes')\n",
        "plt.xlabel('Quantidade de Acidentes')\n",
        "plt.ylabel('Tipo de Veículo')\n",
        "plt.tight_layout()\n",
        "plt.show()\n"
      ],
      "metadata": {
        "id": "iYDjG3BJPXUI"
      },
      "id": "iYDjG3BJPXUI",
      "execution_count": null,
      "outputs": []
    },
    {
      "cell_type": "markdown",
      "source": [
        "## ✅ Conclusões Finais\n",
        "\n",
        "A realização deste MVP de Análise Exploratória de Dados (EDA) sobre acidentes de trânsito em Nova Iorque proporcionou uma experiência completa e prática das principais etapas de um projeto de Data Science aplicado.\n",
        "\n",
        "### ✔️ Síntese das Etapas Realizadas:\n",
        "\n",
        "O projeto seguiu uma estrutura metodológica consistente, contemplando:\n",
        "\n",
        "- **Leitura e ingestão dos dados brutos**, com identificação de inconsistências já na carga inicial;\n",
        "- **Tratamento extensivo de qualidade de dados**, incluindo padronização de colunas, eliminação de duplicatas, análise e correção de valores nulos, conversão de tipos e padronização de categorias;\n",
        "- **Aplicação de pré-processamento adicional**, como criação de novas variáveis (ex.: conversão de horário) e categorização de registros com informações ausentes (ex.: uso da categoria `\"UNKNOWN\"` para boroughs indefinidos);\n",
        "- **Execução de uma EDA completa**, com estatísticas descritivas, gráficos e análises segmentadas por variáveis-chave, cobrindo todas as **sete hipóteses de negócio definidas previamente**.\n",
        "\n",
        "### ✔️ Principais Resultados Técnicos:\n",
        "\n",
        "- Foi possível aplicar técnicas de diagnóstico de dados, como análise de distribuição de nulos, outliers, variáveis categóricas e numéricas;\n",
        "- Foram geradas **diversas visualizações** (gráficos de barras, histogramas, boxplots) para facilitar a interpretação dos padrões presentes no dataset;\n",
        "- As hipóteses levantadas foram testadas a partir de evidências extraídas diretamente dos dados, utilizando abordagens descritivas e comparativas.\n",
        "\n",
        "### ✔️ Limitações do Dataset:\n",
        "\n",
        "É fundamental destacar que este projeto utilizou um **dataset sintético e propositalmente manipulado**, criado com o objetivo exclusivo de fins didáticos.  \n",
        "Essa característica trouxe algumas limitações relevantes para as análises, tais como:\n",
        "\n",
        "- **Distribuição Artificial de Boroughs:**  \n",
        "Todos os cinco boroughs oficiais de Nova Iorque (Brooklyn, Queens, Bronx, Manhattan e Staten Island) apresentaram quantidades de acidentes quase idênticas, o que não representa a realidade geográfica e demográfica da cidade.\n",
        "\n",
        "- **Uniformidade Temporal:**  \n",
        "A distribuição dos acidentes ao longo das horas do dia e dos meses apresentou comportamento praticamente uniforme, sem os picos típicos de horários de rush ou sazonalidades comuns em dados reais de trânsito.\n",
        "\n",
        "- **Variabilidade Irreal nos Tipos de Veículos e Condições Climáticas:**  \n",
        "A distribuição entre os tipos de veículos envolvidos e os fatores climáticos também apresentou um equilíbrio pouco plausível, resultado da geração aleatória de categorias no dataset sujo.\n",
        "\n",
        "Estas limitações foram intencionalmente mantidas para que as etapas de **limpeza, padronização, diagnóstico e análise exploratória** fossem plenamente exercitadas e demonstradas ao longo do MVP.\n",
        "\n",
        "### ✔️ Reflexões sobre o Processo:\n",
        "\n",
        "Apesar das limitações inerentes aos dados, o projeto atingiu seu objetivo principal: **comprovar a capacidade de aplicar com sucesso todas as fases da Análise Exploratória de Dados, desde a preparação bruta até a geração de insights visuais e estatísticos.**\n",
        "\n",
        "Foram tomadas decisões críticas a cada etapa, como:\n",
        "\n",
        "- Escolha das estratégias de tratamento de nulos (remoção, substituição ou categorização);\n",
        "- Definição de critérios para padronização de textos e formatos de datas;\n",
        "- Escolha dos tipos de visualizações mais adequados para cada hipótese.\n",
        "\n",
        "### ✔️ Recomendações para Trabalhos Futuros:\n",
        "\n",
        "Caso o projeto venha a ser replicado ou evoluído, recomenda-se:\n",
        "\n",
        "- Adoção de **datasets reais e representativos**, como o NYC Open Data, para garantir maior validade estatística;\n",
        "- Inclusão de técnicas de **análise geoespacial**, como heatmaps por latitude e longitude dos acidentes;\n",
        "- Exploração de **modelos preditivos**, como regressão ou árvores de decisão, para antecipar o risco de acidentes;\n",
        "- Expansão para análises multivariadas, explorando correlações entre múltiplos fatores de risco.\n",
        "\n",
        "---\n"
      ],
      "metadata": {
        "id": "in3M1m_wTAnu"
      },
      "id": "in3M1m_wTAnu"
    },
    {
      "cell_type": "markdown",
      "source": [
        "## ✅ Autoavaliação\n",
        "\n",
        "A realização deste MVP foi uma experiência desafiadora e extremamente valiosa para o meu desenvolvimento acadêmico e profissional na área de Ciência de Dados.\n",
        "\n",
        "### ✔️ Evolução Técnica e Aprendizados:\n",
        "\n",
        "Ao longo deste projeto, pude consolidar diversos conceitos teóricos vistos durante o curso e, principalmente, aplicar na prática técnicas essenciais para o ciclo de vida de um projeto de dados. Entre os principais aprendizados, destaco:\n",
        "\n",
        "- **Domínio das etapas de limpeza de dados:**  \n",
        "Fui capaz de identificar, diagnosticar e tratar problemas reais de qualidade de dados, incluindo a detecção de valores nulos, inconsistências em categorias textuais, erros de digitação, tipos de dados incorretos e registros duplicados. Essa etapa me fez entender com profundidade como a qualidade dos dados impacta diretamente a confiabilidade das análises.\n",
        "\n",
        "- **Padronização e pré-processamento de dados:**  \n",
        "Desenvolvi um fluxo de pré-processamento robusto, com a aplicação de boas práticas como padronização de nomenclatura de colunas, criação de variáveis derivadas (como a transformação de horários em variáveis numéricas), e categorização de dados faltantes com a criação da categoria `\"UNKNOWN\"`. Essas etapas foram fundamentais para garantir a integridade dos dados antes da Análise Exploratória.\n",
        "\n",
        "- **Planejamento e execução da Análise Exploratória (EDA):**  \n",
        "Aprendi a estruturar uma EDA completa, alinhando cada bloco de análise às hipóteses de negócio definidas previamente. Consegui criar uma sequência lógica de análises, desde as estatísticas descritivas iniciais até a exploração gráfica de variáveis categóricas e numéricas, sempre com foco em validar ou refutar as hipóteses estabelecidas.\n",
        "\n",
        "- **Interpretação crítica dos resultados:**  \n",
        "Mesmo trabalhando com um dataset sintético, fui capaz de manter um olhar crítico sobre os resultados obtidos, reconhecendo as limitações estatísticas decorrentes da artificialidade dos dados e evitando generalizações indevidas.\n",
        "\n",
        "### ✔️ Dificuldades Encontradas:\n",
        "\n",
        "O maior desafio foi lidar com a natureza propositalmente desestruturada do dataset fornecido. Isso exigiu:\n",
        "\n",
        "- Tomada de decisão sobre como tratar inconsistências que não existiriam em um dataset real (exemplo: distribuição artificialmente uniforme entre boroughs);\n",
        "- Cuidados extras na padronização de categorias, garantindo que todas as transformações fossem feitas de forma consistente em todo o pipeline;\n",
        "- Reestruturação de alguns blocos do notebook para garantir a linearidade e legibilidade das análises, evitando o uso de múltiplos dataframes intermediários, que poderiam causar inconsistências nas etapas finais.\n",
        "\n",
        "Além disso, manter o alinhamento rigoroso ao template oficial do MVP exigiu disciplina na organização das seções, validação de requisitos e controle de qualidade do conteúdo apresentado.\n",
        "\n",
        "### ✔️ Desenvolvimento de Soft Skills:\n",
        "\n",
        "O projeto também me ajudou a aprimorar competências como:\n",
        "\n",
        "- **Organização e estruturação lógica de um trabalho técnico de dados**;\n",
        "- **Comunicação clara de resultados técnicos através de textos explicativos e gráficos**;\n",
        "- **Capacidade de autocrítica para reconhecer limitações do trabalho e sugerir melhorias futuras**.\n",
        "\n",
        "### ✔️ Pontos de Melhoria para Projetos Futuros:\n",
        "\n",
        "Se pudesse refazer ou ampliar este projeto, eu incluiria:\n",
        "\n",
        "- Uma etapa de **análise geoespacial**, utilizando latitude e longitude dos acidentes para gerar heatmaps;\n",
        "- Uma análise temporal mais aprofundada, cruzando variáveis como data, horário e tipo de acidente;\n",
        "- O uso de dados reais (como o NYC Open Data) para comparar os aprendizados obtidos com o dataset sintético;\n",
        "- Um pipeline de automação das etapas de diagnóstico de dados, para tornar o processo mais eficiente e replicável.\n",
        "\n",
        "### ✔️ Considerações Finais:\n",
        "\n",
        "Este MVP representou muito mais do que uma simples entrega acadêmica. Ele foi uma oportunidade real de colocar em prática os conceitos fundamentais de Engenharia de Dados e Ciência de Dados, reforçando minha capacidade de:\n",
        "\n",
        "- Realizar um diagnóstico completo de um dataset;\n",
        "- Limpar, transformar e preparar os dados para análise;\n",
        "- Estruturar uma Análise Exploratória de Dados completa e orientada por hipóteses de negócio;\n",
        "- Documentar o processo de forma clara, objetiva e tecnicamente rigorosa.\n",
        "\n",
        "Sinto que este projeto elevou meu nível de maturidade como profissional de dados e me deixou mais preparado para atuar em desafios reais no mercado.\n",
        "\n",
        "Concluo este MVP com o sentimento de missão cumprida e com a certeza de que a experiência adquirida aqui será um diferencial importante na minha trajetória na área de Ciência de Dados.\n"
      ],
      "metadata": {
        "id": "pP0BQaxpU917"
      },
      "id": "pP0BQaxpU917"
    }
  ],
  "metadata": {
    "colab": {
      "provenance": []
    },
    "language_info": {
      "name": "python"
    },
    "kernelspec": {
      "name": "python3",
      "display_name": "Python 3"
    }
  },
  "nbformat": 4,
  "nbformat_minor": 5
}