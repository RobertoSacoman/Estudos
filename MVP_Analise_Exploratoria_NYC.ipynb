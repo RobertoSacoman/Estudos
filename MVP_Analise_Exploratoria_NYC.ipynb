{
 "cells": [
  {
   "cell_type": "markdown",
   "id": "fb594f22",
   "metadata": {},
   "source": [
    "# MVP - Análise Exploratória de Dados - NYC Collisions 2023"
   ]
  },
  {
   "cell_type": "markdown",
   "id": "371d0f0e",
   "metadata": {},
   "source": [
    "## 1. Definição do Problema\n",
    "\n",
    "Este projeto tem como objetivo realizar uma análise exploratória detalhada do dataset de colisões de trânsito na cidade de Nova York, com foco na identificação de padrões, tendências e possíveis insights para apoio na tomada de decisão."
   ]
  },
  {
   "cell_type": "markdown",
   "id": "32ec4731",
   "metadata": {},
   "source": [
    "## 2. Premissas e Hipóteses\n",
    "\n",
    "- Hipótese 1: Determinados bairros possuem maior número de acidentes.\n",
    "- Hipótese 2: Existe correlação entre condições climáticas e volume de acidentes.\n",
    "- Hipótese 3: Certos dias da semana concentram maior número de ocorrências."
   ]
  },
  {
   "cell_type": "markdown",
   "id": "071504d0",
   "metadata": {},
   "source": [
    "## 3. Descrição do Dataset\n",
    "\n",
    "**Fonte:** NYC Open Data (simulado para fins acadêmicos)\n",
    "\n",
    "**Link:** [NYC_Collisions_2023.csv](https://raw.githubusercontent.com/RobertoSacoman/Estudos/main/NYC_Collisions_2023.csv)\n",
    "\n",
    "### Principais Atributos:\n",
    "- Date\n",
    "- Borough\n",
    "- Street Name\n",
    "- Persons Injured\n",
    "- Persons Killed\n",
    "- Contributing Factor\n",
    "- Vehicle Type\n",
    "\n",
    "### Leitura Inicial dos Dados:"
   ]
  },
  {
   "cell_type": "code",
   "execution_count": null,
   "id": "ea274404",
   "metadata": {},
   "outputs": [],
   "source": [
    "import pandas as pd\n",
    "url = 'https://raw.githubusercontent.com/RobertoSacoman/Estudos/main/NYC_Collisions_2023.csv'\n",
    "df = pd.read_csv(url)\n",
    "df.head()"
   ]
  },
  {
   "cell_type": "markdown",
   "id": "ee970721",
   "metadata": {},
   "source": [
    "## 4. Análise Exploratória de Dados (EDA)"
   ]
  },
  {
   "cell_type": "markdown",
   "id": "d98fccbd",
   "metadata": {},
   "source": [
    "### 4.1 Estatísticas Descritivas"
   ]
  },
  {
   "cell_type": "code",
   "execution_count": null,
   "id": "403859dc",
   "metadata": {},
   "outputs": [],
   "source": [
    "df.describe(include='all')"
   ]
  },
  {
   "cell_type": "markdown",
   "id": "11deda89",
   "metadata": {},
   "source": [
    "### 4.2 Tipos de Dados"
   ]
  },
  {
   "cell_type": "code",
   "execution_count": null,
   "id": "99295bda",
   "metadata": {},
   "outputs": [],
   "source": [
    "df.dtypes"
   ]
  },
  {
   "cell_type": "markdown",
   "id": "3c47ecf9",
   "metadata": {},
   "source": [
    "### 4.3 Análise de Valores Nulos"
   ]
  },
  {
   "cell_type": "code",
   "execution_count": null,
   "id": "98320edb",
   "metadata": {},
   "outputs": [],
   "source": [
    "df.isnull().sum()"
   ]
  },
  {
   "cell_type": "markdown",
   "id": "82f861f4",
   "metadata": {},
   "source": [
    "### 4.4 Análise de Outliers"
   ]
  },
  {
   "cell_type": "code",
   "execution_count": null,
   "id": "99110f98",
   "metadata": {},
   "outputs": [],
   "source": [
    "import matplotlib.pyplot as plt\n",
    "import seaborn as sns\n",
    "sns.boxplot(data=df[['Persons Injured', 'Persons Killed']])\n",
    "plt.show()"
   ]
  },
  {
   "cell_type": "markdown",
   "id": "28f17a81",
   "metadata": {},
   "source": [
    "### 4.5 Análise de Distribuição das Variáveis"
   ]
  },
  {
   "cell_type": "code",
   "execution_count": null,
   "id": "f90c24c6",
   "metadata": {},
   "outputs": [],
   "source": [
    "df['Borough'].value_counts().plot(kind='bar')\n",
    "plt.title('Distribuição por Borough')\n",
    "plt.show()"
   ]
  },
  {
   "cell_type": "markdown",
   "id": "779c8c0a",
   "metadata": {},
   "source": [
    "## 5. Pré-processamento de Dados\n",
    "\n",
    "### 5.1 Tratamento de Valores Faltantes\n",
    "\n",
    "### 5.2 Normalização / Padronização\n",
    "\n",
    "### 5.3 Codificação de Variáveis Categóricas\n",
    "\n",
    "### 5.4 Feature Engineering (se aplicável)"
   ]
  },
  {
   "cell_type": "code",
   "execution_count": null,
   "id": "038dbd23",
   "metadata": {},
   "outputs": [],
   "source": [
    "df_clean = df.dropna(subset=['Borough'])\n",
    "df_clean.shape"
   ]
  },
  {
   "cell_type": "markdown",
   "id": "5f05c1e8",
   "metadata": {},
   "source": [
    "## 6. Novas Análises Pós-Tratamento (Opcional)"
   ]
  },
  {
   "cell_type": "code",
   "execution_count": null,
   "id": "01abc5aa",
   "metadata": {},
   "outputs": [],
   "source": [
    "# Exemplo: Nova análise após pré-processamento"
   ]
  },
  {
   "cell_type": "markdown",
   "id": "2883809a",
   "metadata": {},
   "source": [
    "## 7. Conclusões Finais\n",
    "\n",
    "- Principais insights observados.\n",
    "- Possíveis recomendações.\n",
    "- Limitações da análise.\n",
    "- Próximos passos sugeridos."
   ]
  }
 ],
 "metadata": {},
 "nbformat": 4,
 "nbformat_minor": 5
}
