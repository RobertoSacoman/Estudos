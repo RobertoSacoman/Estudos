{
  "cells": [
    {
      "cell_type": "markdown",
      "metadata": {
        "id": "view-in-github",
        "colab_type": "text"
      },
      "source": [
        "<a href=\"https://colab.research.google.com/github/RobertoSacoman/Estudos/blob/main/mvp_ML_v1.ipynb\" target=\"_parent\"><img src=\"https://colab.research.google.com/assets/colab-badge.svg\" alt=\"Open In Colab\"/></a>"
      ]
    },
    {
      "cell_type": "code",
      "source": [],
      "metadata": {
        "id": "DiPDs3ZTKZsg"
      },
      "execution_count": null,
      "outputs": []
    },
    {
      "cell_type": "markdown",
      "metadata": {
        "id": "pVv_QA9Y51sM"
      },
      "source": [
        "# <p style=\"background-color:#3498DB; font-family: 'Segoe UI', Tahoma, Geneva, Verdana, sans-serif; color:#FFF; font-size:160%; text-align:center; border-radius:10px; padding:12px;\">Acidentes de Trânsito - Caos de NY</p>\n",
        "\n",
        "# **Introdução**\n",
        "\n",
        "## Acidentes de Trânsito em Nova Iorque: Um Panorama\n",
        "\n",
        "Nova Iorque, uma das cidades mais populosas e movimentadas dos Estados Unidos, enfrenta desafios significativos relacionados à segurança no trânsito. Com milhões de residentes, trabalhadores e turistas compartilhando ruas e rodovias, o tráfego intenso e o comportamento dos motoristas, ciclistas e pedestres tornam a segurança viária uma prioridade crítica.\n",
        "\n",
        "**Fatores Contribuintes para Acidentes**  \n",
        "Os acidentes de trânsito na cidade estão associados a uma combinação de fatores:  \n",
        "1. **Densidade de tráfego**: As ruas de Nova Iorque frequentemente ficam congestionadas, aumentando o risco de colisões, especialmente em cruzamentos movimentados.  \n",
        "2. **Comportamento humano**: Dirigir distraído, excesso de velocidade e a desobediência às regras de trânsito são causas comuns de acidentes. Além disso, o uso do celular enquanto se dirige é um problema crescente.  \n",
        "3. **Clima e condições das vias**: Durante o inverno, o gelo e a neve dificultam o controle dos veículos, contribuindo para colisões e derrapagens.  \n",
        "4. **Conflito entre modais**: Nova Iorque tem um número significativo de pedestres e ciclistas, que frequentemente dividem o espaço com veículos motorizados, criando zonas de conflito em vias compartilhadas.  \n",
        "\n",
        "Os acidentes de trânsito em Nova Iorque geram uma série de problemas que afetam não apenas os envolvidos diretamente, mas também a cidade como um todo. Esses impactos podem ser categorizados em várias áreas:\n",
        "\n",
        "#### 1. **Perdas Humanas e Lesões**\n",
        "O impacto mais grave é a perda de vidas e os ferimentos causados. Pedestres, ciclistas, motoristas e passageiros podem sofrer consequências que variam de ferimentos leves a traumas graves, muitas vezes resultando em internações prolongadas e reabilitação. Por exemplo, em cruzamentos movimentados de Manhattan, é comum que pedestres sejam vítimas devido à combinação de tráfego intenso e distração.\n",
        "\n",
        "#### 2. **Impactos Econômicos**\n",
        "Os acidentes geram altos custos financeiros, como:\n",
        "- **Custos médicos**: Para tratar feridos, incluindo emergências e cirurgias.\n",
        "- **Danos materiais**: Reparos em veículos, bicicletas e infraestrutura urbana.\n",
        "- **Produtividade**: A perda de dias de trabalho para os envolvidos e atrasos no transporte público.\n",
        "\n",
        "A título de comparação, um único acidente grave em uma avenida principal pode atrasar milhares de trabalhadores que dependem de ônibus ou táxis para se locomover.\n",
        "\n",
        "#### 3. **Congestionamentos no Trânsito**\n",
        "Mesmo acidentes menores podem causar longos engarrafamentos, especialmente em horários de pico. Nova Iorque já enfrenta uma circulação densa, e qualquer interrupção pode agravar o problema, atrasando entregas, transporte público e movimentação de emergência.\n",
        "\n",
        "#### 4. **Sobrecarregamento dos Serviços Públicos**\n",
        "Acidentes demandam a intervenção de equipes de emergência, como polícia, bombeiros e paramédicos. Isso pode desviar recursos de outras áreas da cidade e sobrecarregar hospitais, que já lidam com altas taxas de atendimento.\n",
        "\n",
        "#### 5. **Consequências Emocionais e Sociais**\n",
        "Além das perdas físicas, há impactos emocionais. Vítimas e suas famílias frequentemente enfrentam traumas psicológicos, como transtorno de estresse pós-traumático (TEPT). Comunidades locais também podem sentir os efeitos, especialmente em bairros onde acidentes são recorrentes, prejudicando a sensação de segurança.\n",
        "\n",
        "#### 6. **Degradação da Infraestrutura Urbana**\n",
        "Acidentes frequentemente danificam postes, semáforos, calçadas e outros elementos da infraestrutura viária. Reparos demandam tempo e dinheiro, além de atrapalharem o fluxo normal de pessoas e veículos.\n",
        "\n",
        "---\n",
        "### Exemplo Real\n",
        "\n",
        "Imagine um acidente envolvendo um ônibus e um ciclista no Brooklyn. Além do impacto imediato no ciclista e nos passageiros do ônibus, o tráfego no entorno pode ficar parado por horas. Isso afeta os horários dos trens próximos, causa atrasos em escolas e prejudica negócios locais, criando um efeito cascata de transtornos.\n",
        "\n",
        "Para Nova Iorque, reduzir os acidentes de trânsito é crucial não apenas para preservar vidas, mas também para manter a funcionalidade e a qualidade de vida em uma das cidades mais dinâmicas do mundo.\n",
        "\n",
        "---\n",
        "\n",
        "# **Objetivo do Projeto:**\n",
        "Com todo o conhecimento acima sobre a necessidade de se criar iniciativas para mitigar os acidentes, minha empresa foi contratada para analisar os dados de acidentes anteriores e conseguir identificar um padrão nos acidentes de modo que cheguemos em quais ruas sofrem mais acidentes, quais os tipos mais comuns de acidentes e qual a frequência desses acidentes. Além disso através do sistema criar iniciativas para combater esses acidentes:\n",
        "\n",
        "- Redução do limite de velocidade em áreas urbanas mais afetadas.  \n",
        "- Implementação de ciclovias protegidas e faixas exclusivas para ônibus.  \n",
        "- Melhoria na sinalização e iluminação das vias mais afetadas.  \n",
        "- Uso de câmeras de fiscalização para punir infrações.  \n",
        "\n",
        "## **Descrição do dataset:**\n",
        "\n",
        "Acidentes de trânsitos relatadas pelo Departamento de Polícia da Cidade de Nova Iorque de janeiro de 2021 a abril de 2023. Cada registro representa uma colisão individual, incluindo a data, hora e local do acidente (distrito, CEP, nome da rua, latitude/longitude), os veículos e vítimas envolvidos, além dos fatores contribuintes.\n",
        "  \n",
        "\n",
        "## **Estrutura do projeto:**\n",
        "\n",
        "[**1. Pré-processamento de dados:**](#1)\n",
        "\n",
        "[**2. Análise da Distribuição dos Dados:**](#2)\n",
        "\n",
        "[**3. Escolha do algoritmo:**](#3)\n",
        "\n",
        "[**4. Otimização do modelo:**](#4)\n",
        "\n",
        "[**5. Valiação dos resultados:**](#5)"
      ]
    },
    {
      "cell_type": "markdown",
      "metadata": {
        "id": "QWPWCEY76CCv"
      },
      "source": [
        "<a id=\"1\"></a>\n",
        "# <p style=\"background-color:#3498DB; font-family: 'Segoe UI', Tahoma, Geneva, Verdana, sans-serif; color:#FFF; font-size:160%; text-align:center; border-radius:10px; padding:12px;\">Pré-processamento de dados</p>\n",
        "\n",
        "# Importar as bibliotecas"
      ]
    },
    {
      "cell_type": "code",
      "execution_count": 91,
      "metadata": {
        "id": "iZgCpVEb57BV"
      },
      "outputs": [],
      "source": [
        "import pandas as pd\n",
        "from pandas import Timestamp\n",
        "import datetime as dt\n",
        "from datetime import datetime\n",
        "import matplotlib.pyplot as plt\n",
        "import seaborn as sns\n",
        "import warnings\n",
        "import numpy as np\n",
        "import os\n",
        "import random\n",
        "\n",
        "\n",
        "from sklearn.linear_model import LogisticRegression\n",
        "from sklearn.model_selection import train_test_split\n",
        "from sklearn.model_selection import GridSearchCV\n",
        "from sklearn.preprocessing import LabelEncoder\n",
        "from sklearn.preprocessing import StandardScaler\n",
        "from sklearn.preprocessing import Normalizer\n",
        "from sklearn.ensemble import RandomForestClassifier, GradientBoostingClassifier\n",
        "from sklearn.svm import SVC\n",
        "from sklearn.neighbors import KNeighborsClassifier\n",
        "from sklearn.naive_bayes import GaussianNB\n",
        "from sklearn.metrics import accuracy_score, classification_report\n",
        "from sklearn.metrics import confusion_matrix\n",
        "from sklearn.metrics import classification_report\n",
        "from sklearn.exceptions import UndefinedMetricWarning\n",
        "\n",
        "from joblib import dump\n",
        "\n",
        "warnings.filterwarnings('ignore', category=UndefinedMetricWarning)\n",
        "\n",
        "np.random.seed(99)\n",
        "random.seed(99)"
      ]
    },
    {
      "cell_type": "markdown",
      "metadata": {
        "id": "R7QQqcSm6S63"
      },
      "source": [
        "# Carregar os dados\n",
        "\n",
        "O dataset possui 238.421 registros e 18 colunas.\n",
        "\n",
        "Fonte: https://www.mavenanalytics.io/data-playground\n",
        "\n",
        "Segue abaixo a relação das colunas:\n",
        "\n",
        "#### 1. ***Collision ID:*** Identificador único para cada acidente.\n",
        "#### 2. ***Date:*** Data do acidente.\n",
        "#### 3. ***Time:*** Hora do acidente.\n",
        "#### 4. ***Borough:*** Distrito de Nova York onde ocorreu o acidente (ex.: Bronx, Brooklyn, etc.).\n",
        "#### 5. ***Street Name:*** Nome da rua principal onde ocorreu o acidente.\n",
        "#### 6. ***Cross Street:*** Rua transversal (se aplicável).\n",
        "#### 7. ***Latitude e Longitude:*** Coordenadas geográficas do acidente.\n",
        "#### 8. ***Contributing Factor:*** Fator contribuinte para o acidente (ex.: pavimento escorregadio, motorista adormecido, etc.).\n",
        "#### 9. ***Vehicle Type:*** Tipo de veículo envolvido (ex.: veículo de passageiros, caminhão, etc.).\n",
        "#### 10. ***Persons Injured:*** Total de pessoas feridas.\n",
        "#### 11. ***Persons Killed:*** Total de pessoas mortas.\n",
        "#### 12. ***Pedestrians Injured:*** Pedestres feridos.\n",
        "#### 13. ***Pedestrians Killed:*** Pedestres mortos.\n",
        "#### 14. ***Cyclists Injured:*** Ciclistas feridos.\n",
        "#### 15. ***Cyclists Killed:*** Ciclistas mortos.\n",
        "#### 16. ***Motorists Injured:*** Motoristas feridos.\n",
        "#### 17. ***Motorists Killed:*** Motoristas mortos."
      ]
    },
    {
      "cell_type": "code",
      "execution_count": 89,
      "metadata": {
        "colab": {
          "base_uri": "https://localhost:8080/",
          "height": 310
        },
        "id": "aY1La_n66VV6",
        "outputId": "f2ad33b8-a3c6-49fe-d4fd-9f8a18db543d"
      },
      "outputs": [
        {
          "output_type": "execute_result",
          "data": {
            "text/plain": [
              "   Collision ID        Date      Time        Borough            Street Name  \\\n",
              "0       4491746  2021-01-01  20:00:00          Bronx    Bruckner Expressway   \n",
              "1       4441905  2021-01-01  05:28:00       Brooklyn       Lafayette Avenue   \n",
              "2       4382769  2021-01-01  06:00:00  Staten Island  West Shore Expressway   \n",
              "3       4380949  2021-01-01  19:30:00          Bronx        Sedgwick Avenue   \n",
              "4       4380940  2021-01-01  07:40:00       Brooklyn         Cortelyou Road   \n",
              "\n",
              "               Cross Street  Latitude  Longitude Contributing Factor  \\\n",
              "0                       NaN  40.83398 -73.826350   Pavement Slippery   \n",
              "1                       NaN  40.68730 -73.973656         Unspecified   \n",
              "2                       NaN       NaN        NaN         Fell Asleep   \n",
              "3  Vancortlandt Avenue West  40.88270 -73.892730                 NaN   \n",
              "4          Mc Donald Avenue  40.63791 -73.978640         Unspecified   \n",
              "\n",
              "        Vehicle Type  Persons Injured  Persons Killed  Pedestrians Injured  \\\n",
              "0  Passenger Vehicle              0.0               0                    0   \n",
              "1  Passenger Vehicle              0.0               0                    0   \n",
              "2  Passenger Vehicle              0.0               0                    0   \n",
              "3       Not Reported              0.0               0                    0   \n",
              "4  Passenger Vehicle              0.0               0                    0   \n",
              "\n",
              "   Pedestrians Killed  Cyclists Injured  Cyclists Killed  Motorists Injured  \\\n",
              "0                   0                 0                0                  0   \n",
              "1                   0                 0                0                  0   \n",
              "2                   0                 0                0                  0   \n",
              "3                   0                 0                0                  0   \n",
              "4                   0                 0                0                  0   \n",
              "\n",
              "   Motorists Killed  \n",
              "0                 0  \n",
              "1                 0  \n",
              "2                 0  \n",
              "3                 0  \n",
              "4                 0  "
            ],
            "text/html": [
              "\n",
              "  <div id=\"df-32032f24-9715-474a-b516-0277cf87c08c\" class=\"colab-df-container\">\n",
              "    <div>\n",
              "<style scoped>\n",
              "    .dataframe tbody tr th:only-of-type {\n",
              "        vertical-align: middle;\n",
              "    }\n",
              "\n",
              "    .dataframe tbody tr th {\n",
              "        vertical-align: top;\n",
              "    }\n",
              "\n",
              "    .dataframe thead th {\n",
              "        text-align: right;\n",
              "    }\n",
              "</style>\n",
              "<table border=\"1\" class=\"dataframe\">\n",
              "  <thead>\n",
              "    <tr style=\"text-align: right;\">\n",
              "      <th></th>\n",
              "      <th>Collision ID</th>\n",
              "      <th>Date</th>\n",
              "      <th>Time</th>\n",
              "      <th>Borough</th>\n",
              "      <th>Street Name</th>\n",
              "      <th>Cross Street</th>\n",
              "      <th>Latitude</th>\n",
              "      <th>Longitude</th>\n",
              "      <th>Contributing Factor</th>\n",
              "      <th>Vehicle Type</th>\n",
              "      <th>Persons Injured</th>\n",
              "      <th>Persons Killed</th>\n",
              "      <th>Pedestrians Injured</th>\n",
              "      <th>Pedestrians Killed</th>\n",
              "      <th>Cyclists Injured</th>\n",
              "      <th>Cyclists Killed</th>\n",
              "      <th>Motorists Injured</th>\n",
              "      <th>Motorists Killed</th>\n",
              "    </tr>\n",
              "  </thead>\n",
              "  <tbody>\n",
              "    <tr>\n",
              "      <th>0</th>\n",
              "      <td>4491746</td>\n",
              "      <td>2021-01-01</td>\n",
              "      <td>20:00:00</td>\n",
              "      <td>Bronx</td>\n",
              "      <td>Bruckner Expressway</td>\n",
              "      <td>NaN</td>\n",
              "      <td>40.83398</td>\n",
              "      <td>-73.826350</td>\n",
              "      <td>Pavement Slippery</td>\n",
              "      <td>Passenger Vehicle</td>\n",
              "      <td>0.0</td>\n",
              "      <td>0</td>\n",
              "      <td>0</td>\n",
              "      <td>0</td>\n",
              "      <td>0</td>\n",
              "      <td>0</td>\n",
              "      <td>0</td>\n",
              "      <td>0</td>\n",
              "    </tr>\n",
              "    <tr>\n",
              "      <th>1</th>\n",
              "      <td>4441905</td>\n",
              "      <td>2021-01-01</td>\n",
              "      <td>05:28:00</td>\n",
              "      <td>Brooklyn</td>\n",
              "      <td>Lafayette Avenue</td>\n",
              "      <td>NaN</td>\n",
              "      <td>40.68730</td>\n",
              "      <td>-73.973656</td>\n",
              "      <td>Unspecified</td>\n",
              "      <td>Passenger Vehicle</td>\n",
              "      <td>0.0</td>\n",
              "      <td>0</td>\n",
              "      <td>0</td>\n",
              "      <td>0</td>\n",
              "      <td>0</td>\n",
              "      <td>0</td>\n",
              "      <td>0</td>\n",
              "      <td>0</td>\n",
              "    </tr>\n",
              "    <tr>\n",
              "      <th>2</th>\n",
              "      <td>4382769</td>\n",
              "      <td>2021-01-01</td>\n",
              "      <td>06:00:00</td>\n",
              "      <td>Staten Island</td>\n",
              "      <td>West Shore Expressway</td>\n",
              "      <td>NaN</td>\n",
              "      <td>NaN</td>\n",
              "      <td>NaN</td>\n",
              "      <td>Fell Asleep</td>\n",
              "      <td>Passenger Vehicle</td>\n",
              "      <td>0.0</td>\n",
              "      <td>0</td>\n",
              "      <td>0</td>\n",
              "      <td>0</td>\n",
              "      <td>0</td>\n",
              "      <td>0</td>\n",
              "      <td>0</td>\n",
              "      <td>0</td>\n",
              "    </tr>\n",
              "    <tr>\n",
              "      <th>3</th>\n",
              "      <td>4380949</td>\n",
              "      <td>2021-01-01</td>\n",
              "      <td>19:30:00</td>\n",
              "      <td>Bronx</td>\n",
              "      <td>Sedgwick Avenue</td>\n",
              "      <td>Vancortlandt Avenue West</td>\n",
              "      <td>40.88270</td>\n",
              "      <td>-73.892730</td>\n",
              "      <td>NaN</td>\n",
              "      <td>Not Reported</td>\n",
              "      <td>0.0</td>\n",
              "      <td>0</td>\n",
              "      <td>0</td>\n",
              "      <td>0</td>\n",
              "      <td>0</td>\n",
              "      <td>0</td>\n",
              "      <td>0</td>\n",
              "      <td>0</td>\n",
              "    </tr>\n",
              "    <tr>\n",
              "      <th>4</th>\n",
              "      <td>4380940</td>\n",
              "      <td>2021-01-01</td>\n",
              "      <td>07:40:00</td>\n",
              "      <td>Brooklyn</td>\n",
              "      <td>Cortelyou Road</td>\n",
              "      <td>Mc Donald Avenue</td>\n",
              "      <td>40.63791</td>\n",
              "      <td>-73.978640</td>\n",
              "      <td>Unspecified</td>\n",
              "      <td>Passenger Vehicle</td>\n",
              "      <td>0.0</td>\n",
              "      <td>0</td>\n",
              "      <td>0</td>\n",
              "      <td>0</td>\n",
              "      <td>0</td>\n",
              "      <td>0</td>\n",
              "      <td>0</td>\n",
              "      <td>0</td>\n",
              "    </tr>\n",
              "  </tbody>\n",
              "</table>\n",
              "</div>\n",
              "    <div class=\"colab-df-buttons\">\n",
              "\n",
              "  <div class=\"colab-df-container\">\n",
              "    <button class=\"colab-df-convert\" onclick=\"convertToInteractive('df-32032f24-9715-474a-b516-0277cf87c08c')\"\n",
              "            title=\"Convert this dataframe to an interactive table.\"\n",
              "            style=\"display:none;\">\n",
              "\n",
              "  <svg xmlns=\"http://www.w3.org/2000/svg\" height=\"24px\" viewBox=\"0 -960 960 960\">\n",
              "    <path d=\"M120-120v-720h720v720H120Zm60-500h600v-160H180v160Zm220 220h160v-160H400v160Zm0 220h160v-160H400v160ZM180-400h160v-160H180v160Zm440 0h160v-160H620v160ZM180-180h160v-160H180v160Zm440 0h160v-160H620v160Z\"/>\n",
              "  </svg>\n",
              "    </button>\n",
              "\n",
              "  <style>\n",
              "    .colab-df-container {\n",
              "      display:flex;\n",
              "      gap: 12px;\n",
              "    }\n",
              "\n",
              "    .colab-df-convert {\n",
              "      background-color: #E8F0FE;\n",
              "      border: none;\n",
              "      border-radius: 50%;\n",
              "      cursor: pointer;\n",
              "      display: none;\n",
              "      fill: #1967D2;\n",
              "      height: 32px;\n",
              "      padding: 0 0 0 0;\n",
              "      width: 32px;\n",
              "    }\n",
              "\n",
              "    .colab-df-convert:hover {\n",
              "      background-color: #E2EBFA;\n",
              "      box-shadow: 0px 1px 2px rgba(60, 64, 67, 0.3), 0px 1px 3px 1px rgba(60, 64, 67, 0.15);\n",
              "      fill: #174EA6;\n",
              "    }\n",
              "\n",
              "    .colab-df-buttons div {\n",
              "      margin-bottom: 4px;\n",
              "    }\n",
              "\n",
              "    [theme=dark] .colab-df-convert {\n",
              "      background-color: #3B4455;\n",
              "      fill: #D2E3FC;\n",
              "    }\n",
              "\n",
              "    [theme=dark] .colab-df-convert:hover {\n",
              "      background-color: #434B5C;\n",
              "      box-shadow: 0px 1px 3px 1px rgba(0, 0, 0, 0.15);\n",
              "      filter: drop-shadow(0px 1px 2px rgba(0, 0, 0, 0.3));\n",
              "      fill: #FFFFFF;\n",
              "    }\n",
              "  </style>\n",
              "\n",
              "    <script>\n",
              "      const buttonEl =\n",
              "        document.querySelector('#df-32032f24-9715-474a-b516-0277cf87c08c button.colab-df-convert');\n",
              "      buttonEl.style.display =\n",
              "        google.colab.kernel.accessAllowed ? 'block' : 'none';\n",
              "\n",
              "      async function convertToInteractive(key) {\n",
              "        const element = document.querySelector('#df-32032f24-9715-474a-b516-0277cf87c08c');\n",
              "        const dataTable =\n",
              "          await google.colab.kernel.invokeFunction('convertToInteractive',\n",
              "                                                    [key], {});\n",
              "        if (!dataTable) return;\n",
              "\n",
              "        const docLinkHtml = 'Like what you see? Visit the ' +\n",
              "          '<a target=\"_blank\" href=https://colab.research.google.com/notebooks/data_table.ipynb>data table notebook</a>'\n",
              "          + ' to learn more about interactive tables.';\n",
              "        element.innerHTML = '';\n",
              "        dataTable['output_type'] = 'display_data';\n",
              "        await google.colab.output.renderOutput(dataTable, element);\n",
              "        const docLink = document.createElement('div');\n",
              "        docLink.innerHTML = docLinkHtml;\n",
              "        element.appendChild(docLink);\n",
              "      }\n",
              "    </script>\n",
              "  </div>\n",
              "\n",
              "\n",
              "<div id=\"df-7d1f549e-bffb-4c71-b27f-ef76c43cd450\">\n",
              "  <button class=\"colab-df-quickchart\" onclick=\"quickchart('df-7d1f549e-bffb-4c71-b27f-ef76c43cd450')\"\n",
              "            title=\"Suggest charts\"\n",
              "            style=\"display:none;\">\n",
              "\n",
              "<svg xmlns=\"http://www.w3.org/2000/svg\" height=\"24px\"viewBox=\"0 0 24 24\"\n",
              "     width=\"24px\">\n",
              "    <g>\n",
              "        <path d=\"M19 3H5c-1.1 0-2 .9-2 2v14c0 1.1.9 2 2 2h14c1.1 0 2-.9 2-2V5c0-1.1-.9-2-2-2zM9 17H7v-7h2v7zm4 0h-2V7h2v10zm4 0h-2v-4h2v4z\"/>\n",
              "    </g>\n",
              "</svg>\n",
              "  </button>\n",
              "\n",
              "<style>\n",
              "  .colab-df-quickchart {\n",
              "      --bg-color: #E8F0FE;\n",
              "      --fill-color: #1967D2;\n",
              "      --hover-bg-color: #E2EBFA;\n",
              "      --hover-fill-color: #174EA6;\n",
              "      --disabled-fill-color: #AAA;\n",
              "      --disabled-bg-color: #DDD;\n",
              "  }\n",
              "\n",
              "  [theme=dark] .colab-df-quickchart {\n",
              "      --bg-color: #3B4455;\n",
              "      --fill-color: #D2E3FC;\n",
              "      --hover-bg-color: #434B5C;\n",
              "      --hover-fill-color: #FFFFFF;\n",
              "      --disabled-bg-color: #3B4455;\n",
              "      --disabled-fill-color: #666;\n",
              "  }\n",
              "\n",
              "  .colab-df-quickchart {\n",
              "    background-color: var(--bg-color);\n",
              "    border: none;\n",
              "    border-radius: 50%;\n",
              "    cursor: pointer;\n",
              "    display: none;\n",
              "    fill: var(--fill-color);\n",
              "    height: 32px;\n",
              "    padding: 0;\n",
              "    width: 32px;\n",
              "  }\n",
              "\n",
              "  .colab-df-quickchart:hover {\n",
              "    background-color: var(--hover-bg-color);\n",
              "    box-shadow: 0 1px 2px rgba(60, 64, 67, 0.3), 0 1px 3px 1px rgba(60, 64, 67, 0.15);\n",
              "    fill: var(--button-hover-fill-color);\n",
              "  }\n",
              "\n",
              "  .colab-df-quickchart-complete:disabled,\n",
              "  .colab-df-quickchart-complete:disabled:hover {\n",
              "    background-color: var(--disabled-bg-color);\n",
              "    fill: var(--disabled-fill-color);\n",
              "    box-shadow: none;\n",
              "  }\n",
              "\n",
              "  .colab-df-spinner {\n",
              "    border: 2px solid var(--fill-color);\n",
              "    border-color: transparent;\n",
              "    border-bottom-color: var(--fill-color);\n",
              "    animation:\n",
              "      spin 1s steps(1) infinite;\n",
              "  }\n",
              "\n",
              "  @keyframes spin {\n",
              "    0% {\n",
              "      border-color: transparent;\n",
              "      border-bottom-color: var(--fill-color);\n",
              "      border-left-color: var(--fill-color);\n",
              "    }\n",
              "    20% {\n",
              "      border-color: transparent;\n",
              "      border-left-color: var(--fill-color);\n",
              "      border-top-color: var(--fill-color);\n",
              "    }\n",
              "    30% {\n",
              "      border-color: transparent;\n",
              "      border-left-color: var(--fill-color);\n",
              "      border-top-color: var(--fill-color);\n",
              "      border-right-color: var(--fill-color);\n",
              "    }\n",
              "    40% {\n",
              "      border-color: transparent;\n",
              "      border-right-color: var(--fill-color);\n",
              "      border-top-color: var(--fill-color);\n",
              "    }\n",
              "    60% {\n",
              "      border-color: transparent;\n",
              "      border-right-color: var(--fill-color);\n",
              "    }\n",
              "    80% {\n",
              "      border-color: transparent;\n",
              "      border-right-color: var(--fill-color);\n",
              "      border-bottom-color: var(--fill-color);\n",
              "    }\n",
              "    90% {\n",
              "      border-color: transparent;\n",
              "      border-bottom-color: var(--fill-color);\n",
              "    }\n",
              "  }\n",
              "</style>\n",
              "\n",
              "  <script>\n",
              "    async function quickchart(key) {\n",
              "      const quickchartButtonEl =\n",
              "        document.querySelector('#' + key + ' button');\n",
              "      quickchartButtonEl.disabled = true;  // To prevent multiple clicks.\n",
              "      quickchartButtonEl.classList.add('colab-df-spinner');\n",
              "      try {\n",
              "        const charts = await google.colab.kernel.invokeFunction(\n",
              "            'suggestCharts', [key], {});\n",
              "      } catch (error) {\n",
              "        console.error('Error during call to suggestCharts:', error);\n",
              "      }\n",
              "      quickchartButtonEl.classList.remove('colab-df-spinner');\n",
              "      quickchartButtonEl.classList.add('colab-df-quickchart-complete');\n",
              "    }\n",
              "    (() => {\n",
              "      let quickchartButtonEl =\n",
              "        document.querySelector('#df-7d1f549e-bffb-4c71-b27f-ef76c43cd450 button');\n",
              "      quickchartButtonEl.style.display =\n",
              "        google.colab.kernel.accessAllowed ? 'block' : 'none';\n",
              "    })();\n",
              "  </script>\n",
              "</div>\n",
              "\n",
              "    </div>\n",
              "  </div>\n"
            ],
            "application/vnd.google.colaboratory.intrinsic+json": {
              "type": "dataframe",
              "variable_name": "data"
            }
          },
          "metadata": {},
          "execution_count": 89
        }
      ],
      "source": [
        "# Carregar o dataset\n",
        "data = pd.read_csv(\"/content/drive/MyDrive/Colab Notebooks/NYC_Collisions.csv\")\n",
        "\n",
        "# Mostrar as primeiras linhas e informações do dataset\n",
        "data.head()\n"
      ]
    },
    {
      "cell_type": "code",
      "execution_count": 43,
      "metadata": {
        "colab": {
          "base_uri": "https://localhost:8080/"
        },
        "id": "2xdzlygf6gbm",
        "outputId": "ba5b20ae-9853-4f0e-acef-e27f25135fff"
      },
      "outputs": [
        {
          "output_type": "execute_result",
          "data": {
            "text/plain": [
              "(238421, 18)"
            ]
          },
          "metadata": {},
          "execution_count": 43
        }
      ],
      "source": [
        "data.shape"
      ]
    },
    {
      "cell_type": "markdown",
      "metadata": {
        "id": "0WmZMva16qdy"
      },
      "source": [
        "Temos 238421 registros e 18 colunas, agora vamos verificar se os tipos de dados estão corretos."
      ]
    },
    {
      "cell_type": "code",
      "execution_count": 42,
      "metadata": {
        "colab": {
          "base_uri": "https://localhost:8080/",
          "height": 649
        },
        "id": "YiX_HiU46r0E",
        "outputId": "f48af0d7-52a2-47d8-98bd-2da8bb829b1a"
      },
      "outputs": [
        {
          "output_type": "execute_result",
          "data": {
            "text/plain": [
              "Collision ID             int64\n",
              "Date                    object\n",
              "Time                    object\n",
              "Borough                 object\n",
              "Street Name             object\n",
              "Cross Street            object\n",
              "Latitude               float64\n",
              "Longitude              float64\n",
              "Contributing Factor     object\n",
              "Vehicle Type            object\n",
              "Persons Injured        float64\n",
              "Persons Killed           int64\n",
              "Pedestrians Injured      int64\n",
              "Pedestrians Killed       int64\n",
              "Cyclists Injured         int64\n",
              "Cyclists Killed          int64\n",
              "Motorists Injured        int64\n",
              "Motorists Killed         int64\n",
              "dtype: object"
            ],
            "text/html": [
              "<div>\n",
              "<style scoped>\n",
              "    .dataframe tbody tr th:only-of-type {\n",
              "        vertical-align: middle;\n",
              "    }\n",
              "\n",
              "    .dataframe tbody tr th {\n",
              "        vertical-align: top;\n",
              "    }\n",
              "\n",
              "    .dataframe thead th {\n",
              "        text-align: right;\n",
              "    }\n",
              "</style>\n",
              "<table border=\"1\" class=\"dataframe\">\n",
              "  <thead>\n",
              "    <tr style=\"text-align: right;\">\n",
              "      <th></th>\n",
              "      <th>0</th>\n",
              "    </tr>\n",
              "  </thead>\n",
              "  <tbody>\n",
              "    <tr>\n",
              "      <th>Collision ID</th>\n",
              "      <td>int64</td>\n",
              "    </tr>\n",
              "    <tr>\n",
              "      <th>Date</th>\n",
              "      <td>object</td>\n",
              "    </tr>\n",
              "    <tr>\n",
              "      <th>Time</th>\n",
              "      <td>object</td>\n",
              "    </tr>\n",
              "    <tr>\n",
              "      <th>Borough</th>\n",
              "      <td>object</td>\n",
              "    </tr>\n",
              "    <tr>\n",
              "      <th>Street Name</th>\n",
              "      <td>object</td>\n",
              "    </tr>\n",
              "    <tr>\n",
              "      <th>Cross Street</th>\n",
              "      <td>object</td>\n",
              "    </tr>\n",
              "    <tr>\n",
              "      <th>Latitude</th>\n",
              "      <td>float64</td>\n",
              "    </tr>\n",
              "    <tr>\n",
              "      <th>Longitude</th>\n",
              "      <td>float64</td>\n",
              "    </tr>\n",
              "    <tr>\n",
              "      <th>Contributing Factor</th>\n",
              "      <td>object</td>\n",
              "    </tr>\n",
              "    <tr>\n",
              "      <th>Vehicle Type</th>\n",
              "      <td>object</td>\n",
              "    </tr>\n",
              "    <tr>\n",
              "      <th>Persons Injured</th>\n",
              "      <td>float64</td>\n",
              "    </tr>\n",
              "    <tr>\n",
              "      <th>Persons Killed</th>\n",
              "      <td>int64</td>\n",
              "    </tr>\n",
              "    <tr>\n",
              "      <th>Pedestrians Injured</th>\n",
              "      <td>int64</td>\n",
              "    </tr>\n",
              "    <tr>\n",
              "      <th>Pedestrians Killed</th>\n",
              "      <td>int64</td>\n",
              "    </tr>\n",
              "    <tr>\n",
              "      <th>Cyclists Injured</th>\n",
              "      <td>int64</td>\n",
              "    </tr>\n",
              "    <tr>\n",
              "      <th>Cyclists Killed</th>\n",
              "      <td>int64</td>\n",
              "    </tr>\n",
              "    <tr>\n",
              "      <th>Motorists Injured</th>\n",
              "      <td>int64</td>\n",
              "    </tr>\n",
              "    <tr>\n",
              "      <th>Motorists Killed</th>\n",
              "      <td>int64</td>\n",
              "    </tr>\n",
              "  </tbody>\n",
              "</table>\n",
              "</div><br><label><b>dtype:</b> object</label>"
            ]
          },
          "metadata": {},
          "execution_count": 42
        }
      ],
      "source": [
        "data.dtypes"
      ]
    },
    {
      "cell_type": "markdown",
      "metadata": {
        "id": "GL6KnzF96x9k"
      },
      "source": [
        "Com os dados corretos, vamos iniciar a analise dos dados nulos\n"
      ]
    },
    {
      "cell_type": "code",
      "execution_count": 41,
      "metadata": {
        "colab": {
          "base_uri": "https://localhost:8080/"
        },
        "id": "m64zUD8f60lg",
        "outputId": "3f504815-3659-4ca3-bf9c-1db2aa9e590a"
      },
      "outputs": [
        {
          "output_type": "stream",
          "name": "stdout",
          "text": [
            "<class 'pandas.core.frame.DataFrame'>\n",
            "Index: 237133 entries, 0 to 238420\n",
            "Data columns (total 5 columns):\n",
            " #   Column               Non-Null Count   Dtype         \n",
            "---  ------               --------------   -----         \n",
            " 0   Date                 237133 non-null  datetime64[ns]\n",
            " 1   Time                 237133 non-null  object        \n",
            " 2   Persons Killed       237133 non-null  int64         \n",
            " 3   Persons Injured      237133 non-null  float64       \n",
            " 4   Contributing Factor  237133 non-null  object        \n",
            "dtypes: datetime64[ns](1), float64(1), int64(1), object(2)\n",
            "memory usage: 10.9+ MB\n"
          ]
        },
        {
          "output_type": "stream",
          "name": "stderr",
          "text": [
            "<ipython-input-41-8485f9c7b519>:23: SettingWithCopyWarning: \n",
            "A value is trying to be set on a copy of a slice from a DataFrame.\n",
            "Try using .loc[row_indexer,col_indexer] = value instead\n",
            "\n",
            "See the caveats in the documentation: https://pandas.pydata.org/pandas-docs/stable/user_guide/indexing.html#returning-a-view-versus-a-copy\n",
            "  data_cleaned[\"Date\"] = pd.to_datetime(data_cleaned[\"Date\"], errors='coerce')\n",
            "<ipython-input-41-8485f9c7b519>:24: SettingWithCopyWarning: \n",
            "A value is trying to be set on a copy of a slice from a DataFrame.\n",
            "Try using .loc[row_indexer,col_indexer] = value instead\n",
            "\n",
            "See the caveats in the documentation: https://pandas.pydata.org/pandas-docs/stable/user_guide/indexing.html#returning-a-view-versus-a-copy\n",
            "  data_cleaned[\"Time\"] = pd.to_datetime(data_cleaned[\"Time\"], format=\"%H:%M:%S\", errors='coerce').dt.time\n"
          ]
        },
        {
          "output_type": "execute_result",
          "data": {
            "text/plain": [
              "(        Date      Time  Persons Killed  Persons Injured  \\\n",
              " 0 2021-01-01  20:00:00               0              0.0   \n",
              " 1 2021-01-01  05:28:00               0              0.0   \n",
              " 2 2021-01-01  06:00:00               0              0.0   \n",
              " 4 2021-01-01  07:40:00               0              0.0   \n",
              " 5 2021-01-01  18:45:00               0              0.0   \n",
              " \n",
              "                                  Contributing Factor  \n",
              " 0                                  Pavement Slippery  \n",
              " 1                                        Unspecified  \n",
              " 2                                        Fell Asleep  \n",
              " 4                                        Unspecified  \n",
              " 5  Pedestrian/Bicyclist/Other Pedestrian Error/Co...  ,\n",
              " None)"
            ]
          },
          "metadata": {},
          "execution_count": 41
        }
      ],
      "source": [
        "# Critérios para seleção das melhores colunas:\n",
        "# 1. Evitar colunas com muitos valores ausentes\n",
        "# 2. Colunas mais relevantes para análise de acidentes\n",
        "# 3. Colunas numéricas com variância\n",
        "\n",
        "# Colunas consideradas\n",
        "important_columns = [\"Date\", \"Time\", \"Borough\", \"Latitude\", \"Longitude\",\n",
        "                     \"Persons Injured\", \"Persons Killed\", \"Contributing Factor\"]\n",
        "\n",
        "# Calcular a porcentagem de valores não nulos por coluna\n",
        "non_null_percentage = data[important_columns].notnull().mean().sort_values(ascending=False)\n",
        "\n",
        "# Selecionar as 5 colunas com maior relevância e menos valores ausentes\n",
        "top_columns = non_null_percentage.head(5).index.tolist()\n",
        "\n",
        "# Criar um novo DataFrame apenas com essas colunas\n",
        "data_selected = data[top_columns]\n",
        "\n",
        "# Remover linhas com valores ausentes nas colunas selecionadas\n",
        "data_cleaned = data_selected.dropna()\n",
        "\n",
        "# Ajustar o formato da coluna 'Date' e 'Time'\n",
        "data_cleaned[\"Date\"] = pd.to_datetime(data_cleaned[\"Date\"], errors='coerce')\n",
        "data_cleaned[\"Time\"] = pd.to_datetime(data_cleaned[\"Time\"], format=\"%H:%M:%S\", errors='coerce').dt.time\n",
        "\n",
        "# Mostrar as primeiras linhas do dataset limpo\n",
        "data_cleaned.head(), data_cleaned.info()\n"
      ]
    },
    {
      "cell_type": "markdown",
      "metadata": {
        "id": "8KAD-hxy6-oS"
      },
      "source": [
        "## Colunas Selecionadas:\n",
        "\n",
        "#### 1. ***Date***\n",
        "#### 2. ***Time***\n",
        "#### 3. ***Persons Killed***\n",
        "#### 4. ***Persons Injured***\n",
        "#### 5. ***Contributing Factor***\n",
        "\n",
        "## Detalhes da Limpeza:\n",
        "\n",
        "Linhas com valores ausentes em colunas selecionadas foram removidas.\n",
        "\n",
        "## Formatos ajustados:\n",
        "\n",
        "#### 1. **Date** - convertido para o tipo datetime.\n",
        "#### 2. **Time** - convertido para o tipo time."
      ]
    },
    {
      "cell_type": "markdown",
      "metadata": {
        "id": "ODiTxy2x7J-C"
      },
      "source": [
        "<a id=\"2\"></a>\n",
        "# <p style=\"background-color:#3498DB; font-family: 'Segoe UI', Tahoma, Geneva, Verdana, sans-serif; color:#FFF; font-size:160%; text-align:center; border-radius:10px; padding:12px;\"> Análise da Distribuição dos Dados</p>"
      ]
    },
    {
      "cell_type": "code",
      "execution_count": 51,
      "metadata": {
        "colab": {
          "base_uri": "https://localhost:8080/",
          "height": 894
        },
        "id": "tZmtCzJm7OVh",
        "outputId": "dcd81b0c-e374-4ca6-bb4a-773d5082c796"
      },
      "outputs": [
        {
          "output_type": "stream",
          "name": "stderr",
          "text": [
            "<ipython-input-51-e2b7ba924d10>:18: FutureWarning: \n",
            "\n",
            "Passing `palette` without assigning `hue` is deprecated and will be removed in v0.14.0. Assign the `y` variable to `hue` and set `legend=False` for the same effect.\n",
            "\n",
            "  sns.barplot(x=top_factors.values, y=top_factors.index, palette='viridis')\n"
          ]
        },
        {
          "output_type": "display_data",
          "data": {
            "text/plain": [
              "<Figure size 1200x800 with 3 Axes>"
            ],
            "image/png": "[encoded data removed]"
          },
          "metadata": {}
        }
      ],
      "source": [
        "# Configuração geral dos gráficos\n",
        "plt.style.use('seaborn-v0_8-darkgrid')\n",
        "plt.figure(figsize=(12, 8))\n",
        "\n",
        "# Gráfico de distribuição: Persons Injured\n",
        "plt.subplot(2, 2, 1)\n",
        "sns.histplot(data_cleaned['Persons Injured'], bins=30, kde=True, color='blue')\n",
        "plt.title('Distribuição de Pessoas Feridas')\n",
        "\n",
        "# Gráfico de distribuição: Persons Killed\n",
        "plt.subplot(2, 2, 2)\n",
        "sns.histplot(data_cleaned['Persons Killed'], bins=30, kde=True, color='red')\n",
        "plt.title('Distribuição de Pessoas Mortas')\n",
        "\n",
        "# Gráfico de barras: Fator Contribuinte\n",
        "plt.subplot(2, 1, 2)\n",
        "top_factors = data_cleaned['Contributing Factor'].value_counts().head(10)  # Top 10 fatores\n",
        "sns.barplot(x=top_factors.values, y=top_factors.index, palette='viridis')\n",
        "plt.title('Top 10 Fatores Contribuintes')\n",
        "\n",
        "plt.tight_layout()\n",
        "plt.show()\n"
      ]
    },
    {
      "cell_type": "markdown",
      "source": [],
      "metadata": {
        "id": "iha3UeOYvW2H"
      }
    },
    {
      "cell_type": "markdown",
      "metadata": {
        "id": "HaMdY06D7S8H"
      },
      "source": [
        "<a id=\"3\"></a>\n",
        "# <p style=\"background-color:#3498DB; font-family: 'Segoe UI', Tahoma, Geneva, Verdana, sans-serif; color:#FFF; font-size:160%; text-align:center; border-radius:10px; padding:12px;\">Escolha do algoritmo</p>\n",
        "\n",
        "## Primeiro vamos fazer o split dos dados"
      ]
    },
    {
      "cell_type": "markdown",
      "metadata": {
        "id": "RdPNqczM7YyH"
      },
      "source": [
        "Com base nas análises prévias e tendo em vista a grande preocupação da prefeitura com o números de acidentes, foi classificado a coluna \"Persons Injured\" como o alvo, além disso foi distribuido em 70% de treino e 30% de testes"
      ]
    },
    {
      "cell_type": "code",
      "execution_count": 85,
      "metadata": {
        "colab": {
          "base_uri": "https://localhost:8080/"
        },
        "id": "wfsnGA6_7as5",
        "outputId": "c98ee03f-fc61-48d0-ea19-e26e330a2124"
      },
      "outputs": [
        {
          "output_type": "stream",
          "name": "stdout",
          "text": [
            "Dimensões do conjunto de treinamento (features): (165993, 4)\n",
            "Dimensões do conjunto de teste (features): (71140, 4)\n",
            "Dimensões do conjunto de treinamento (alvo): (165993,)\n",
            "Dimensões do conjunto de teste (alvo): (71140,)\n"
          ]
        }
      ],
      "source": [
        "# Definir a coluna-alvo\n",
        "target = 'Persons Injured'\n",
        "X = data_cleaned.drop(columns=[target])  # Features\n",
        "y = data_cleaned[target]  # Coluna-alvo\n",
        "\n",
        "# Dividir os dados em treino (70%) e teste (30%)\n",
        "X_train, X_test, y_train, y_test = train_test_split(X, y, test_size=0.3, random_state=42)\n",
        "\n",
        "# Verificar o tamanho dos conjuntos resultantes\n",
        "\n",
        "print(\"Dimensões do conjunto de treinamento (features):\", X_train.shape)\n",
        "print(\"Dimensões do conjunto de teste (features):\", X_test.shape)\n",
        "print(\"Dimensões do conjunto de treinamento (alvo):\", y_train.shape)\n",
        "print(\"Dimensões do conjunto de teste (alvo):\", y_test.shape)"
      ]
    },
    {
      "cell_type": "markdown",
      "metadata": {
        "id": "U9bfsea57eio"
      },
      "source": [
        "Agora, vamos aplicar uma técnica de escala nos nossos dados numéricos. É importante realizar essa etapa separadamente nos conjuntos de treinamento e teste para evitar vazamento de dados."
      ]
    },
    {
      "cell_type": "code",
      "execution_count": 90,
      "metadata": {
        "id": "-a7a7qpy7fex",
        "colab": {
          "base_uri": "https://localhost:8080/"
        },
        "outputId": "8149074b-b89b-4e0f-ca17-4448680e14ff"
      },
      "outputs": [
        {
          "output_type": "stream",
          "name": "stdout",
          "text": [
            "                       Date  Time  Persons Killed  Contributing Factor\n",
            "197233  1667088000000000000  1016               0                   49\n",
            "215381  1672876800000000000  1338               0                   14\n",
            "5553    1611360000000000000  1308               0                   50\n",
            "164079  1657152000000000000  1000               0                    8\n",
            "76424   1631404800000000000   540               0                   31\n",
            "Date                   int64\n",
            "Time                   int64\n",
            "Persons Killed         int64\n",
            "Contributing Factor    int64\n",
            "dtype: object\n"
          ]
        }
      ],
      "source": [
        "# Escalonando os dados\n",
        "\n",
        "# Copiar os dados para evitar alterar o original\n",
        "X_train_scaled = X_train.copy()\n",
        "X_test_scaled = X_test.copy()\n",
        "\n",
        "# Converter variáveis categóricas em numéricas\n",
        "label_encoders = {}\n",
        "categorical_columns = X_train.select_dtypes(include=['object']).columns\n",
        "\n",
        "for column in categorical_columns:\n",
        "    le = LabelEncoder()\n",
        "    X_train_scaled[column] = le.fit_transform(X_train_scaled[column])\n",
        "    X_test_scaled[column] = le.transform(X_test_scaled[column])\n",
        "    label_encoders[column] = le\n",
        "\n",
        "# Escalonar as colunas numéricas\n",
        "numeric_columns = X_train.select_dtypes(include=['int64', 'float64']).columns\n",
        "scaler = StandardScaler()\n",
        "\n",
        "X_train_scaled[numeric_columns] = scaler.fit_transform(X_train_scaled[numeric_columns])\n",
        "X_test_scaled[numeric_columns] = scaler.transform(X_test_scaled[numeric_columns])\n",
        "\n",
        "# Converter para inteiros, se necessário\n",
        "X_train_scaled = X_train_scaled.round().astype(int)\n",
        "X_test_scaled = X_test_scaled.round().astype(int)\n",
        "\n",
        "# Verificar o resultado das transformações\n",
        "print(X_train_scaled.head())\n",
        "print(X_train_scaled.dtypes)\n"
      ]
    },
    {
      "cell_type": "markdown",
      "metadata": {
        "id": "2AGRrqB57jPd"
      },
      "source": [
        "# Para treinar e comparar os algoritmos, usaremos 5 dos mais populares:\n",
        "\n",
        "### Random Forest Classifier\n",
        "### Logistic Regression\n",
        "### Support Vector Machine (SVM)\n",
        "### K-Nearest Neighbors (KNN)\n",
        "### Gradient Boosting Classifier\n",
        "\n",
        "##### Em seguida iremos comparar os resultados obtidos por cada um desses algoritmos, selecionar o melhor e por fim aprimorá-lo com a utilização de hiperparâmetros."
      ]
    },
    {
      "cell_type": "code",
      "source": [
        "# Lista de modelos\n",
        "models = {\n",
        "    \"Random Forest\": RandomForestClassifier(random_state=42),\n",
        "    \"Logistic Regression\": LogisticRegression(max_iter=500),\n",
        "    \"SVM\": SVC(),\n",
        "    \"KNN\": KNeighborsClassifier(),\n",
        "    \"Gradient Boosting\": GradientBoostingClassifier(random_state=42)\n",
        "}\n",
        "\n",
        "# Treinamento e avaliação\n",
        "results = {}\n",
        "for name, model in models.items():\n",
        "    model.fit(X_train_scaled, y_train)\n",
        "    y_pred = model.predict(X_test_scaled)\n",
        "    accuracy = accuracy_score(y_test, y_pred)\n",
        "    results[name] = accuracy\n",
        "    print(f\"{name} Accuracy: {accuracy:.4f}\")\n",
        "    print(classification_report(y_test, y_pred))\n",
        "    print(\"-\" * 50)\n",
        "\n",
        "# Determinar o melhor modelo\n",
        "best_model = max(results, key=results.get)\n",
        "print(f\"Melhor modelo: {best_model} com acurácia de {results[best_model]:.4f}\")\n"
      ],
      "metadata": {
        "colab": {
          "base_uri": "https://localhost:8080/"
        },
        "id": "9FywnLj0En7v",
        "outputId": "d64c86aa-514a-4eb0-9bd9-6117349c416e"
      },
      "execution_count": null,
      "outputs": [
        {
          "output_type": "stream",
          "name": "stdout",
          "text": [
            "Random Forest Accuracy: 0.5899\n",
            "              precision    recall  f1-score   support\n",
            "\n",
            "           0       0.67      0.79      0.73     45311\n",
            "           1       0.38      0.30      0.34     20097\n",
            "           2       0.07      0.03      0.04      3872\n",
            "           3       0.04      0.01      0.02      1173\n",
            "           4       0.00      0.00      0.00       422\n",
            "           5       0.02      0.01      0.01       155\n",
            "           6       0.14      0.03      0.05        60\n",
            "           7       0.00      0.00      0.00        29\n",
            "           8       0.00      0.00      0.00         8\n",
            "           9       0.00      0.00      0.00         3\n",
            "          10       0.00      0.00      0.00         3\n",
            "          11       0.00      0.00      0.00         1\n",
            "          12       0.00      0.00      0.00         1\n",
            "          13       0.00      0.00      0.00         0\n",
            "          14       0.00      0.00      0.00         0\n",
            "          15       0.00      0.00      0.00         1\n",
            "          16       0.00      0.00      0.00         1\n",
            "          17       0.00      0.00      0.00         1\n",
            "          21       0.00      0.00      0.00         1\n",
            "          40       0.00      0.00      0.00         1\n",
            "\n",
            "    accuracy                           0.59     71140\n",
            "   macro avg       0.07      0.06      0.06     71140\n",
            "weighted avg       0.54      0.59      0.56     71140\n",
            "\n",
            "--------------------------------------------------\n",
            "Logistic Regression Accuracy: 0.6369\n",
            "              precision    recall  f1-score   support\n",
            "\n",
            "           0       0.64      1.00      0.78     45311\n",
            "           1       0.00      0.00      0.00     20097\n",
            "           2       0.00      0.00      0.00      3872\n",
            "           3       0.00      0.00      0.00      1173\n",
            "           4       0.00      0.00      0.00       422\n",
            "           5       0.00      0.00      0.00       155\n",
            "           6       0.00      0.00      0.00        60\n",
            "           7       0.00      0.00      0.00        29\n",
            "           8       0.00      0.00      0.00         8\n",
            "           9       0.00      0.00      0.00         3\n",
            "          10       0.00      0.00      0.00         3\n",
            "          11       0.00      0.00      0.00         1\n",
            "          12       0.00      0.00      0.00         1\n",
            "          15       0.00      0.00      0.00         1\n",
            "          16       0.00      0.00      0.00         1\n",
            "          17       0.00      0.00      0.00         1\n",
            "          21       0.00      0.00      0.00         1\n",
            "          40       0.00      0.00      0.00         1\n",
            "\n",
            "    accuracy                           0.64     71140\n",
            "   macro avg       0.04      0.06      0.04     71140\n",
            "weighted avg       0.41      0.64      0.50     71140\n",
            "\n",
            "--------------------------------------------------\n"
          ]
        }
      ]
    },
    {
      "cell_type": "markdown",
      "metadata": {
        "id": "D-zK2pyb7tBJ"
      },
      "source": [
        "#### Explicação sobre os algoritmos escolhidos:\n",
        "\n",
        "- Random Forest:\n",
        "\n",
        "    - A precisão para a classe 1 é baixa, indicando dificuldade em identificar corretamente essa classe.\n",
        "    - A acurácia geral foi de 51%, com um f1-score médio de 0.43.\n",
        "\n",
        "- Gradient Boosting:\n",
        "\n",
        "    - O modelo teve um desempenho melhor que o Random Forest, especialmente para as classes 1.\n",
        "    - A acurácia geral foi de 50%, com um f1-score médio de 0.47.\n",
        "\n",
        "- Support Vector Machines (SVM):\n",
        "\n",
        "    - O SVM teve dificuldades em prever a classe 1, com uma precisão de 0%.\n",
        "    - A acurácia geral foi de 45%, com um f1-score médio de 0.26.\n",
        "\n",
        "- K-Nearest Neighbors (KNN):\n",
        "\n",
        "    - O KNN teve um desempenho intermediário, com precisões e recalls equilibrados para as três classes.\n",
        "    - A acurácia geral foi de 39%, com um f1-score médio de 0.35.\n",
        "\n",
        "- Naive Bayes:\n",
        "\n",
        "    - O Naive Bayes teve dificuldades em prever as classes 1 e 3, com baixa precisão e recall.\n",
        "    - A acurácia geral foi de 41%, com um f1-score médio de 0.35.\n",
        "\n",
        "\n",
        "\n",
        "Em geral, nenhum dos modelos apresentou um desempenho excepcional. O Gradient Boosting foi o melhor modelo em termos de acurácia e precisão para as três classes, mas ainda há espaço para melhorias. Vamos considerá-lo como o melhor modelo e tentar melhorar ainda mais seu desempenho ajustando os hiperparâmetros."
      ]
    },
    {
      "cell_type": "code",
      "execution_count": null,
      "metadata": {
        "id": "ySmB1Y5S7vax"
      },
      "outputs": [],
      "source": [
        "# Função para imprimir a matriz de confusão como um heatmap em um subplot\n",
        "def plot_confusion_matrix_subplot(ax, nome_modelo, y_true, y_pred):\n",
        "    matriz = confusion_matrix(y_true, y_pred)\n",
        "    sns.set(font_scale=1.2)\n",
        "    sns.heatmap(matriz, annot=True, fmt='d', cmap='Blues', cbar=False, ax=ax)\n",
        "    ax.set_xlabel('Predito')\n",
        "    ax.set_ylabel('Verdadeiro')\n",
        "    ax.set_title(f'Matriz de Confusão para {nome_modelo}')\n",
        "\n",
        "# Criar uma figura com subplots agrupados a cada 3\n",
        "fig, axs = plt.subplots(2, 3, figsize=(18, 12))\n",
        "\n",
        "plot_confusion_matrix_subplot(axs[0, 0], \"Random Forest\", y_test, rf_pred)\n",
        "plot_confusion_matrix_subplot(axs[0, 1], \"Gradient Boosting\", y_test, gb_pred)\n",
        "plot_confusion_matrix_subplot(axs[0, 2], \"Support Vector Machines\", y_test, svc_pred)\n",
        "plot_confusion_matrix_subplot(axs[1, 0], \"K-Nearest Neighbors\", y_test, knn_pred)\n",
        "plot_confusion_matrix_subplot(axs[1, 1], \"Naive Bayes\", y_test, nb_pred)\n",
        "\n",
        "plt.suptitle('Matrizes de Confusão', fontsize=16)\n",
        "\n",
        "plt.tight_layout()\n",
        "plt.show()"
      ]
    },
    {
      "cell_type": "markdown",
      "metadata": {
        "id": "kugvP41573kC"
      },
      "source": [
        "<a id=\"4\"></a>\n",
        "# <p style=\"background-color:#3498DB; font-family: 'Segoe UI', Tahoma, Geneva, Verdana, sans-serif; color:#FFF; font-size:160%; text-align:center; border-radius:10px; padding:12px;\">Otimização do modelo</p>\n",
        "\n",
        "## Agora vamos utilizar os hiperparâmetros na tentativa de melhorar os resultados"
      ]
    },
    {
      "cell_type": "code",
      "execution_count": null,
      "metadata": {
        "colab": {
          "background_save": true
        },
        "id": "dDnXgVDW76GI",
        "outputId": "0208388c-1bf1-465b-ad25-b05e797e0253"
      },
      "outputs": [
        {
          "name": "stdout",
          "output_type": "stream",
          "text": [
            "Melhor Score: 0.4586796077241937\n",
            "Melhores Parâmetros: {'learning_rate': 0.1, 'max_depth': 2, 'n_estimators': 5}\n",
            "Melhor Modelo (Gradient Boosting):\n",
            "              precision    recall  f1-score   support\n",
            "\n",
            "         1.0       0.00      0.00      0.00        39\n",
            "         2.0       0.57      0.09      0.15        93\n",
            "         3.0       0.45      0.97      0.62       104\n",
            "\n",
            "    accuracy                           0.46       236\n",
            "   macro avg       0.34      0.35      0.26       236\n",
            "weighted avg       0.43      0.46      0.33       236\n",
            "\n"
          ]
        },
        {
          "data": {
            "image/png": "[encoded data removed]",
            "text/plain": [
              "<Figure size 640x480 with 1 Axes>"
            ]
          },
          "metadata": {},
          "output_type": "display_data"
        }
      ],
      "source": [
        "param_grid = {\n",
        "    'n_estimators': [1, 3, 5, 6, 7, 8, 10, 15, 20, 25, 30, 35, 40, 45, 50, 100, 150],\n",
        "    'learning_rate': [0.01, 0.02, 0.1, 0.5],\n",
        "    'max_depth': [1, 2, 3, 4, 5, 7, 10, 15]\n",
        "}\n",
        "\n",
        "gb2 = GradientBoostingClassifier(random_state=99)\n",
        "\n",
        "grid_search = GridSearchCV(estimator=gb2, param_grid=param_grid, cv=3, scoring='accuracy', n_jobs=-1)\n",
        "\n",
        "grid_search.fit(X_train, y_train)\n",
        "\n",
        "print(\"Melhor Score:\", grid_search.best_score_)\n",
        "print(\"Melhores Parâmetros:\", grid_search.best_params_)\n",
        "\n",
        "best_gb = grid_search.best_estimator_\n",
        "best_gb_pred = best_gb.predict(X_test)\n",
        "\n",
        "print(\"Melhor Modelo (Gradient Boosting):\")\n",
        "print(classification_report(y_test, best_gb_pred))\n",
        "\n",
        "plot_confusion_matrix_subplot(plt.gca(), \"Melhor Modelo (Gradient Boosting)\", y_test, best_gb_pred)\n",
        "plt.show()"
      ]
    },
    {
      "cell_type": "markdown",
      "metadata": {
        "id": "wxleVSI48A9e"
      },
      "source": [
        "Como podemos observar, os resultados com a utilização de hiperparâmetros foram piores, tanto em termos de acurácia quanto de precisão das classes. O modelo apresentou dificuldades especialmente na identificação da classe 1."
      ]
    },
    {
      "cell_type": "markdown",
      "metadata": {
        "id": "c-krqz1U8C9T"
      },
      "source": [
        "<a id=\"5\"></a>\n",
        "# <p style=\"background-color:#3498DB; font-family: 'Segoe UI', Tahoma, Geneva, Verdana, sans-serif; color:#FFF; font-size:160%; text-align:center; border-radius:10px; padding:12px;\"> Análise dos resultados</p>"
      ]
    },
    {
      "cell_type": "markdown",
      "metadata": {
        "id": "huv6LwTw8Hv_"
      },
      "source": [
        "### Testes sem hiperparâmetros:\n",
        "\n",
        "- Random Forest:\n",
        "\n",
        "    - A precisão para a classe 1 é baixa, indicando dificuldade em identificar corretamente essa classe.\n",
        "    - A acurácia geral foi de 51%, com um f1-score médio de 0.43.\n",
        "\n",
        "- Gradient Boosting:\n",
        "\n",
        "    - O modelo teve um desempenho melhor que o Random Forest, especialmente para as classes 1.\n",
        "    - A acurácia geral foi de 50%, com um f1-score médio de 0.47.\n",
        "\n",
        "- Support Vector Machines (SVM):\n",
        "\n",
        "    - O SVM teve dificuldades em prever a classe 1, com uma precisão de 0%.\n",
        "    - A acurácia geral foi de 45%, com um f1-score médio de 0.26.\n",
        "\n",
        "- K-Nearest Neighbors (KNN):\n",
        "\n",
        "    - O KNN teve um desempenho intermediário, com precisões e recalls equilibrados para as três classes.\n",
        "    - A acurácia geral foi de 39%, com um f1-score médio de 0.35.\n",
        "\n",
        "- Naive Bayes:\n",
        "\n",
        "    - O Naive Bayes teve dificuldades em prever as classes 1 e 3, com baixa precisão e recall.\n",
        "    - A acurácia geral foi de 41%, com um f1-score médio de 0.35.\n",
        "\n",
        "\n",
        "\n",
        "Em geral, nenhum dos modelos apresentou um desempenho excepcional. O Gradient Boosting foi o melhor modelo em termos de acurácia e precisão para as três classes, mas ainda há espaço para melhorias. Vamos considerá-lo como o melhor modelo e tentar melhorar ainda mais seu desempenho ajustando os hiperparâmetros."
      ]
    },
    {
      "cell_type": "markdown",
      "metadata": {
        "id": "eIAir_Vm8MZi"
      },
      "source": [
        "### Testes com hiperparâmetros:\n",
        "\n",
        "- Teve uma acurácia de 46%.\n",
        "- A classe 1 teve uma precisão de 0%, recall de 0% e f1-score de 0%.\n",
        "- A classe 2 teve uma precisão de 57%, recall de 9% e f1-score de 15%.\n",
        "- A classe 3 teve uma precisão de 45%, recall de 97% e f1-score de 62%.\n",
        "\n",
        "\n",
        "Os resultados com hiperparâmetros mostraram uma precisão significativamente menor para a classe 1, chegando a zero. Isso indica que o modelo com hiperparâmetros teve dificuldades em prever corretamente a classe 1, o que pode ser um indicativo de overfitting."
      ]
    },
    {
      "cell_type": "markdown",
      "metadata": {
        "id": "bmsyc6638f8R"
      },
      "source": [
        "# Conclusão\n",
        "\n",
        "Com uma acurácia próxima de 50% (considerando três classes, o que para o mercado financeiro não é considerado tão ruim), e com a seleção de ativos realizada por um analista com expertise, podemos afirmar que esse método é interessante e merece ser explorado. Embora esperasse uma precisão um pouco maior, não consegui melhorar os resultados. Talvez se tivéssemos mais dados disponíveis, como dados mensais em vez de anuais, poderíamos obter melhores resultados. No entanto, não consegui encontrar esses dados gratuitamente, acredito que apenas uma API paga ofereceria essa possibilidade.\n",
        "\n",
        "O método atual pode ser explorado com mais ênfase na classe \"Barata\", visando exclusivamente à compra de ativos. No entanto, o projeto atual propõe uma abordagem que envolve tanto a compra quanto a venda de ativos, exigindo um equilíbrio entre as três classes (\"Cara\", \"Barata\" e \"Neutra\"). Portanto, não podemos priorizar apenas uma classe neste contexto, mas sim considerar o cenário completo para uma análise mais abrangente e equilibrada das decisões de investimento.\n",
        "\n",
        "* É importante ressaltar que, como o preço do ano atual e do seguinte foi considerado como a média, esse percentual de acerto pode variar significativamente no teste real, pois depende muito do momento da compra ou da venda da ação."
      ]
    },
    {
      "cell_type": "markdown",
      "metadata": {
        "id": "1Vuk_HUa8xmG"
      },
      "source": [
        "## Exportando o melhor modelo treinado para posteriormente fazer o deploy"
      ]
    },
    {
      "cell_type": "code",
      "execution_count": null,
      "metadata": {
        "colab": {
          "background_save": true
        },
        "id": "BDT27xay8iWX",
        "outputId": "92ad15bb-0ca2-4faa-a6de-0105a45c8f5b"
      },
      "outputs": [
        {
          "data": {
            "text/plain": [
              "['../../data/models/gradient_boosting_model.joblib']"
            ]
          },
          "execution_count": 16,
          "metadata": {},
          "output_type": "execute_result"
        }
      ],
      "source": [
        "model_dir = '../../data/models'\n",
        "if not os.path.exists(model_dir):\n",
        "    os.makedirs(model_dir)\n",
        "\n",
        "dump(gb, os.path.join(model_dir, 'gradient_boosting_model.joblib'))"
      ]
    },
    {
      "cell_type": "markdown",
      "metadata": {
        "id": "M2DGs0uz83dn"
      },
      "source": [
        "# Aplicação em produção\n",
        "\n",
        "A aplicação em produção foi feita com Streamlit. O objetivo da aplicação é permitir que o usuário obtenha uma análise rápida sobre se uma ação está cara, neutra ou barata com base em indicadores financeiros.\n",
        "\n",
        "Para isso, o usuário digita o ticker da ação desejada e a aplicação busca os dados dos indicadores financeiros em um arquivo CSV baixado do site Status Invest, que contém os indicadores atualizados de todas as ações. Em seguida, a aplicação utiliza o nosso modelo de machine learning previamente treinado para fazer a análise e retorna a classificação da ação.\n",
        "\n",
        "Para acessar e ver como está em produção, [clique aqui](https://investlink.streamlit.app/)."
      ]
    }
  ],
  "metadata": {
    "colab": {
      "provenance": [],
      "toc_visible": true,
      "mount_file_id": "1Ebs0I8i3VUklrJgi-Y4F50HJmlg5eC2k",
      "authorship_tag": "ABX9TyPniVCS62qolRnuoWQd0xwP",
      "include_colab_link": true
    },
    "kernelspec": {
      "display_name": "Python 3",
      "name": "python3"
    },
    "language_info": {
      "name": "python"
    }
  },
  "nbformat": 4,
  "nbformat_minor": 0
}